{
 "cells": [
  {
   "cell_type": "code",
   "execution_count": 1,
   "id": "8a0075de-1620-4d97-8a0c-910a46de6072",
   "metadata": {},
   "outputs": [
    {
     "data": {
      "text/html": [
       "<pre style=\"white-space:pre;overflow-x:auto;line-height:normal;font-family:Menlo,'DejaVu Sans Mono',consolas,'Courier New',monospace\"><span style=\"color: #7fbfbf; text-decoration-color: #7fbfbf\">[10/05/25 14:45:15] </span><span style=\"color: #000080; text-decoration-color: #000080\">INFO    </span> Using                                                                  <a href=\"file:///home/zishan/anaconda3/envs/car_price_prediction/lib/python3.13/site-packages/kedro/framework/project/__init__.py\" target=\"_blank\"><span style=\"color: #7f7f7f; text-decoration-color: #7f7f7f\">__init__.py</span></a><span style=\"color: #7f7f7f; text-decoration-color: #7f7f7f\">:</span><a href=\"file:///home/zishan/anaconda3/envs/car_price_prediction/lib/python3.13/site-packages/kedro/framework/project/__init__.py#270\" target=\"_blank\"><span style=\"color: #7f7f7f; text-decoration-color: #7f7f7f\">270</span></a>\n",
       "<span style=\"color: #7fbfbf; text-decoration-color: #7fbfbf\">                    </span>         <span style=\"color: #008000; text-decoration-color: #008000\">'/home/zishan/anaconda3/envs/car_price_prediction/lib/python3.13/site-</span> <span style=\"color: #7f7f7f; text-decoration-color: #7f7f7f\">               </span>\n",
       "<span style=\"color: #7fbfbf; text-decoration-color: #7fbfbf\">                    </span>         <span style=\"color: #008000; text-decoration-color: #008000\">packages/kedro/framework/project/rich_logging.yml'</span> as logging          <span style=\"color: #7f7f7f; text-decoration-color: #7f7f7f\">               </span>\n",
       "<span style=\"color: #7fbfbf; text-decoration-color: #7fbfbf\">                    </span>         configuration.                                                         <span style=\"color: #7f7f7f; text-decoration-color: #7f7f7f\">               </span>\n",
       "</pre>\n"
      ],
      "text/plain": [
       "\u001b[2;36m[10/05/25 14:45:15]\u001b[0m\u001b[2;36m \u001b[0m\u001b[34mINFO    \u001b[0m Using                                                                  \u001b]8;id=313177;file:///home/zishan/anaconda3/envs/car_price_prediction/lib/python3.13/site-packages/kedro/framework/project/__init__.py\u001b\\\u001b[2m__init__.py\u001b[0m\u001b]8;;\u001b\\\u001b[2m:\u001b[0m\u001b]8;id=200215;file:///home/zishan/anaconda3/envs/car_price_prediction/lib/python3.13/site-packages/kedro/framework/project/__init__.py#270\u001b\\\u001b[2m270\u001b[0m\u001b]8;;\u001b\\\n",
       "\u001b[2;36m                    \u001b[0m         \u001b[32m'/home/zishan/anaconda3/envs/car_price_prediction/lib/python3.13/site-\u001b[0m \u001b[2m               \u001b[0m\n",
       "\u001b[2;36m                    \u001b[0m         \u001b[32mpackages/kedro/framework/project/rich_logging.yml'\u001b[0m as logging          \u001b[2m               \u001b[0m\n",
       "\u001b[2;36m                    \u001b[0m         configuration.                                                         \u001b[2m               \u001b[0m\n"
      ]
     },
     "metadata": {},
     "output_type": "display_data"
    },
    {
     "data": {
      "text/html": [
       "<pre style=\"white-space:pre;overflow-x:auto;line-height:normal;font-family:Menlo,'DejaVu Sans Mono',consolas,'Courier New',monospace\"><span style=\"color: #7fbfbf; text-decoration-color: #7fbfbf\">                    </span><span style=\"color: #000080; text-decoration-color: #000080\">INFO    </span> Registered line magic <span style=\"color: #008000; text-decoration-color: #008000\">'%reload_kedro'</span>                                   <a href=\"file:///home/zishan/anaconda3/envs/car_price_prediction/lib/python3.13/site-packages/kedro/ipython/__init__.py\" target=\"_blank\"><span style=\"color: #7f7f7f; text-decoration-color: #7f7f7f\">__init__.py</span></a><span style=\"color: #7f7f7f; text-decoration-color: #7f7f7f\">:</span><a href=\"file:///home/zishan/anaconda3/envs/car_price_prediction/lib/python3.13/site-packages/kedro/ipython/__init__.py#63\" target=\"_blank\"><span style=\"color: #7f7f7f; text-decoration-color: #7f7f7f\">63</span></a>\n",
       "</pre>\n"
      ],
      "text/plain": [
       "\u001b[2;36m                   \u001b[0m\u001b[2;36m \u001b[0m\u001b[34mINFO    \u001b[0m Registered line magic \u001b[32m'%reload_kedro'\u001b[0m                                   \u001b]8;id=864869;file:///home/zishan/anaconda3/envs/car_price_prediction/lib/python3.13/site-packages/kedro/ipython/__init__.py\u001b\\\u001b[2m__init__.py\u001b[0m\u001b]8;;\u001b\\\u001b[2m:\u001b[0m\u001b]8;id=600069;file:///home/zishan/anaconda3/envs/car_price_prediction/lib/python3.13/site-packages/kedro/ipython/__init__.py#63\u001b\\\u001b[2m63\u001b[0m\u001b]8;;\u001b\\\n"
      ]
     },
     "metadata": {},
     "output_type": "display_data"
    },
    {
     "data": {
      "text/html": [
       "<pre style=\"white-space:pre;overflow-x:auto;line-height:normal;font-family:Menlo,'DejaVu Sans Mono',consolas,'Courier New',monospace\"><span style=\"color: #7fbfbf; text-decoration-color: #7fbfbf\">                    </span><span style=\"color: #000080; text-decoration-color: #000080\">INFO    </span> Registered line magic <span style=\"color: #008000; text-decoration-color: #008000\">'%load_node'</span>                                      <a href=\"file:///home/zishan/anaconda3/envs/car_price_prediction/lib/python3.13/site-packages/kedro/ipython/__init__.py\" target=\"_blank\"><span style=\"color: #7f7f7f; text-decoration-color: #7f7f7f\">__init__.py</span></a><span style=\"color: #7f7f7f; text-decoration-color: #7f7f7f\">:</span><a href=\"file:///home/zishan/anaconda3/envs/car_price_prediction/lib/python3.13/site-packages/kedro/ipython/__init__.py#65\" target=\"_blank\"><span style=\"color: #7f7f7f; text-decoration-color: #7f7f7f\">65</span></a>\n",
       "</pre>\n"
      ],
      "text/plain": [
       "\u001b[2;36m                   \u001b[0m\u001b[2;36m \u001b[0m\u001b[34mINFO    \u001b[0m Registered line magic \u001b[32m'%load_node'\u001b[0m                                      \u001b]8;id=253680;file:///home/zishan/anaconda3/envs/car_price_prediction/lib/python3.13/site-packages/kedro/ipython/__init__.py\u001b\\\u001b[2m__init__.py\u001b[0m\u001b]8;;\u001b\\\u001b[2m:\u001b[0m\u001b]8;id=425556;file:///home/zishan/anaconda3/envs/car_price_prediction/lib/python3.13/site-packages/kedro/ipython/__init__.py#65\u001b\\\u001b[2m65\u001b[0m\u001b]8;;\u001b\\\n"
      ]
     },
     "metadata": {},
     "output_type": "display_data"
    },
    {
     "data": {
      "text/html": [
       "<pre style=\"white-space:pre;overflow-x:auto;line-height:normal;font-family:Menlo,'DejaVu Sans Mono',consolas,'Courier New',monospace\"><span style=\"color: #7fbfbf; text-decoration-color: #7fbfbf\">                    </span><span style=\"color: #000080; text-decoration-color: #000080\">INFO    </span> Resolved project path as:                                              <a href=\"file:///home/zishan/anaconda3/envs/car_price_prediction/lib/python3.13/site-packages/kedro/ipython/__init__.py\" target=\"_blank\"><span style=\"color: #7f7f7f; text-decoration-color: #7f7f7f\">__init__.py</span></a><span style=\"color: #7f7f7f; text-decoration-color: #7f7f7f\">:</span><a href=\"file:///home/zishan/anaconda3/envs/car_price_prediction/lib/python3.13/site-packages/kedro/ipython/__init__.py#180\" target=\"_blank\"><span style=\"color: #7f7f7f; text-decoration-color: #7f7f7f\">180</span></a>\n",
       "<span style=\"color: #7fbfbf; text-decoration-color: #7fbfbf\">                    </span>         <span style=\"color: #800080; text-decoration-color: #800080\">/home/zishan/Documents/projects/</span><span style=\"color: #ff00ff; text-decoration-color: #ff00ff\">car-price-prediction.</span>                  <span style=\"color: #7f7f7f; text-decoration-color: #7f7f7f\">               </span>\n",
       "<span style=\"color: #7fbfbf; text-decoration-color: #7fbfbf\">                    </span>         To set a different path, run <span style=\"color: #008000; text-decoration-color: #008000\">'%reload_kedro &lt;project_root&gt;'</span>            <span style=\"color: #7f7f7f; text-decoration-color: #7f7f7f\">               </span>\n",
       "</pre>\n"
      ],
      "text/plain": [
       "\u001b[2;36m                   \u001b[0m\u001b[2;36m \u001b[0m\u001b[34mINFO    \u001b[0m Resolved project path as:                                              \u001b]8;id=539899;file:///home/zishan/anaconda3/envs/car_price_prediction/lib/python3.13/site-packages/kedro/ipython/__init__.py\u001b\\\u001b[2m__init__.py\u001b[0m\u001b]8;;\u001b\\\u001b[2m:\u001b[0m\u001b]8;id=430475;file:///home/zishan/anaconda3/envs/car_price_prediction/lib/python3.13/site-packages/kedro/ipython/__init__.py#180\u001b\\\u001b[2m180\u001b[0m\u001b]8;;\u001b\\\n",
       "\u001b[2;36m                    \u001b[0m         \u001b[35m/home/zishan/Documents/projects/\u001b[0m\u001b[95mcar-price-prediction.\u001b[0m                  \u001b[2m               \u001b[0m\n",
       "\u001b[2;36m                    \u001b[0m         To set a different path, run \u001b[32m'%reload_kedro \u001b[0m\u001b[32m<\u001b[0m\u001b[32mproject_root\u001b[0m\u001b[32m>\u001b[0m\u001b[32m'\u001b[0m            \u001b[2m               \u001b[0m\n"
      ]
     },
     "metadata": {},
     "output_type": "display_data"
    },
    {
     "data": {
      "text/html": [
       "<pre style=\"white-space:pre;overflow-x:auto;line-height:normal;font-family:Menlo,'DejaVu Sans Mono',consolas,'Courier New',monospace\"><span style=\"color: #7fbfbf; text-decoration-color: #7fbfbf\">[10/05/25 14:45:16] </span><span style=\"color: #000080; text-decoration-color: #000080\">INFO    </span> Kedro is sending anonymous usage data with the sole purpose of improving <a href=\"file:///home/zishan/anaconda3/envs/car_price_prediction/lib/python3.13/site-packages/kedro_telemetry/plugin.py\" target=\"_blank\"><span style=\"color: #7f7f7f; text-decoration-color: #7f7f7f\">plugin.py</span></a><span style=\"color: #7f7f7f; text-decoration-color: #7f7f7f\">:</span><a href=\"file:///home/zishan/anaconda3/envs/car_price_prediction/lib/python3.13/site-packages/kedro_telemetry/plugin.py#243\" target=\"_blank\"><span style=\"color: #7f7f7f; text-decoration-color: #7f7f7f\">243</span></a>\n",
       "<span style=\"color: #7fbfbf; text-decoration-color: #7fbfbf\">                    </span>         the product. No personal data or IP addresses are stored on our side. To <span style=\"color: #7f7f7f; text-decoration-color: #7f7f7f\">             </span>\n",
       "<span style=\"color: #7fbfbf; text-decoration-color: #7fbfbf\">                    </span>         opt out, set the `KEDRO_DISABLE_TELEMETRY` or `DO_NOT_TRACK` environment <span style=\"color: #7f7f7f; text-decoration-color: #7f7f7f\">             </span>\n",
       "<span style=\"color: #7fbfbf; text-decoration-color: #7fbfbf\">                    </span>         variables, or create a `.telemetry` file in the current working          <span style=\"color: #7f7f7f; text-decoration-color: #7f7f7f\">             </span>\n",
       "<span style=\"color: #7fbfbf; text-decoration-color: #7fbfbf\">                    </span>         directory with the contents `consent: false`. To hide this message,      <span style=\"color: #7f7f7f; text-decoration-color: #7f7f7f\">             </span>\n",
       "<span style=\"color: #7fbfbf; text-decoration-color: #7fbfbf\">                    </span>         explicitly grant or deny consent. Read more at                           <span style=\"color: #7f7f7f; text-decoration-color: #7f7f7f\">             </span>\n",
       "<span style=\"color: #7fbfbf; text-decoration-color: #7fbfbf\">                    </span>         <span style=\"color: #0000ff; text-decoration-color: #0000ff; text-decoration: underline\">https://docs.kedro.org/en/stable/configuration/telemetry.html</span>            <span style=\"color: #7f7f7f; text-decoration-color: #7f7f7f\">             </span>\n",
       "</pre>\n"
      ],
      "text/plain": [
       "\u001b[2;36m[10/05/25 14:45:16]\u001b[0m\u001b[2;36m \u001b[0m\u001b[34mINFO    \u001b[0m Kedro is sending anonymous usage data with the sole purpose of improving \u001b]8;id=604488;file:///home/zishan/anaconda3/envs/car_price_prediction/lib/python3.13/site-packages/kedro_telemetry/plugin.py\u001b\\\u001b[2mplugin.py\u001b[0m\u001b]8;;\u001b\\\u001b[2m:\u001b[0m\u001b]8;id=659497;file:///home/zishan/anaconda3/envs/car_price_prediction/lib/python3.13/site-packages/kedro_telemetry/plugin.py#243\u001b\\\u001b[2m243\u001b[0m\u001b]8;;\u001b\\\n",
       "\u001b[2;36m                    \u001b[0m         the product. No personal data or IP addresses are stored on our side. To \u001b[2m             \u001b[0m\n",
       "\u001b[2;36m                    \u001b[0m         opt out, set the `KEDRO_DISABLE_TELEMETRY` or `DO_NOT_TRACK` environment \u001b[2m             \u001b[0m\n",
       "\u001b[2;36m                    \u001b[0m         variables, or create a `.telemetry` file in the current working          \u001b[2m             \u001b[0m\n",
       "\u001b[2;36m                    \u001b[0m         directory with the contents `consent: false`. To hide this message,      \u001b[2m             \u001b[0m\n",
       "\u001b[2;36m                    \u001b[0m         explicitly grant or deny consent. Read more at                           \u001b[2m             \u001b[0m\n",
       "\u001b[2;36m                    \u001b[0m         \u001b[4;94mhttps://docs.kedro.org/en/stable/configuration/telemetry.html\u001b[0m            \u001b[2m             \u001b[0m\n"
      ]
     },
     "metadata": {},
     "output_type": "display_data"
    },
    {
     "data": {
      "text/html": [
       "<pre style=\"white-space:pre;overflow-x:auto;line-height:normal;font-family:Menlo,'DejaVu Sans Mono',consolas,'Courier New',monospace\"><span style=\"color: #7fbfbf; text-decoration-color: #7fbfbf\">[10/05/25 14:45:17] </span><span style=\"color: #000080; text-decoration-color: #000080\">INFO    </span> Kedro project car_price_prediction                                     <a href=\"file:///home/zishan/anaconda3/envs/car_price_prediction/lib/python3.13/site-packages/kedro/ipython/__init__.py\" target=\"_blank\"><span style=\"color: #7f7f7f; text-decoration-color: #7f7f7f\">__init__.py</span></a><span style=\"color: #7f7f7f; text-decoration-color: #7f7f7f\">:</span><a href=\"file:///home/zishan/anaconda3/envs/car_price_prediction/lib/python3.13/site-packages/kedro/ipython/__init__.py#146\" target=\"_blank\"><span style=\"color: #7f7f7f; text-decoration-color: #7f7f7f\">146</span></a>\n",
       "</pre>\n"
      ],
      "text/plain": [
       "\u001b[2;36m[10/05/25 14:45:17]\u001b[0m\u001b[2;36m \u001b[0m\u001b[34mINFO    \u001b[0m Kedro project car_price_prediction                                     \u001b]8;id=756937;file:///home/zishan/anaconda3/envs/car_price_prediction/lib/python3.13/site-packages/kedro/ipython/__init__.py\u001b\\\u001b[2m__init__.py\u001b[0m\u001b]8;;\u001b\\\u001b[2m:\u001b[0m\u001b]8;id=803374;file:///home/zishan/anaconda3/envs/car_price_prediction/lib/python3.13/site-packages/kedro/ipython/__init__.py#146\u001b\\\u001b[2m146\u001b[0m\u001b]8;;\u001b\\\n"
      ]
     },
     "metadata": {},
     "output_type": "display_data"
    },
    {
     "data": {
      "text/html": [
       "<pre style=\"white-space:pre;overflow-x:auto;line-height:normal;font-family:Menlo,'DejaVu Sans Mono',consolas,'Courier New',monospace\"><span style=\"color: #7fbfbf; text-decoration-color: #7fbfbf\">                    </span><span style=\"color: #000080; text-decoration-color: #000080\">INFO    </span> Defined global variable <span style=\"color: #008000; text-decoration-color: #008000\">'context'</span>, <span style=\"color: #008000; text-decoration-color: #008000\">'session'</span>, <span style=\"color: #008000; text-decoration-color: #008000\">'catalog'</span> and            <a href=\"file:///home/zishan/anaconda3/envs/car_price_prediction/lib/python3.13/site-packages/kedro/ipython/__init__.py\" target=\"_blank\"><span style=\"color: #7f7f7f; text-decoration-color: #7f7f7f\">__init__.py</span></a><span style=\"color: #7f7f7f; text-decoration-color: #7f7f7f\">:</span><a href=\"file:///home/zishan/anaconda3/envs/car_price_prediction/lib/python3.13/site-packages/kedro/ipython/__init__.py#147\" target=\"_blank\"><span style=\"color: #7f7f7f; text-decoration-color: #7f7f7f\">147</span></a>\n",
       "<span style=\"color: #7fbfbf; text-decoration-color: #7fbfbf\">                    </span>         <span style=\"color: #008000; text-decoration-color: #008000\">'pipelines'</span>                                                            <span style=\"color: #7f7f7f; text-decoration-color: #7f7f7f\">               </span>\n",
       "</pre>\n"
      ],
      "text/plain": [
       "\u001b[2;36m                   \u001b[0m\u001b[2;36m \u001b[0m\u001b[34mINFO    \u001b[0m Defined global variable \u001b[32m'context'\u001b[0m, \u001b[32m'session'\u001b[0m, \u001b[32m'catalog'\u001b[0m and            \u001b]8;id=563486;file:///home/zishan/anaconda3/envs/car_price_prediction/lib/python3.13/site-packages/kedro/ipython/__init__.py\u001b\\\u001b[2m__init__.py\u001b[0m\u001b]8;;\u001b\\\u001b[2m:\u001b[0m\u001b]8;id=473490;file:///home/zishan/anaconda3/envs/car_price_prediction/lib/python3.13/site-packages/kedro/ipython/__init__.py#147\u001b\\\u001b[2m147\u001b[0m\u001b]8;;\u001b\\\n",
       "\u001b[2;36m                    \u001b[0m         \u001b[32m'pipelines'\u001b[0m                                                            \u001b[2m               \u001b[0m\n"
      ]
     },
     "metadata": {},
     "output_type": "display_data"
    }
   ],
   "source": [
    "%load_ext kedro"
   ]
  },
  {
   "cell_type": "code",
   "execution_count": 2,
   "id": "91e9c7ed-114b-4381-8e15-899583554bde",
   "metadata": {},
   "outputs": [
    {
     "data": {
      "text/html": [
       "<pre style=\"white-space:pre;overflow-x:auto;line-height:normal;font-family:Menlo,'DejaVu Sans Mono',consolas,'Courier New',monospace\"><span style=\"color: #7fbfbf; text-decoration-color: #7fbfbf\">[10/05/25 14:45:22] </span><span style=\"color: #000080; text-decoration-color: #000080\">INFO    </span> Loading data from <span style=\"color: #ff8700; text-decoration-color: #ff8700\">cars</span> <span style=\"font-weight: bold\">(</span>CSVDataset<span style=\"font-weight: bold\">)</span><span style=\"color: #808000; text-decoration-color: #808000\">...</span>                            <a href=\"file:///home/zishan/anaconda3/envs/car_price_prediction/lib/python3.13/site-packages/kedro/io/data_catalog.py\" target=\"_blank\"><span style=\"color: #7f7f7f; text-decoration-color: #7f7f7f\">data_catalog.py</span></a><span style=\"color: #7f7f7f; text-decoration-color: #7f7f7f\">:</span><a href=\"file:///home/zishan/anaconda3/envs/car_price_prediction/lib/python3.13/site-packages/kedro/io/data_catalog.py#1046\" target=\"_blank\"><span style=\"color: #7f7f7f; text-decoration-color: #7f7f7f\">1046</span></a>\n",
       "</pre>\n"
      ],
      "text/plain": [
       "\u001b[2;36m[10/05/25 14:45:22]\u001b[0m\u001b[2;36m \u001b[0m\u001b[34mINFO    \u001b[0m Loading data from \u001b[38;5;208mcars\u001b[0m \u001b[1m(\u001b[0mCSVDataset\u001b[1m)\u001b[0m\u001b[33m...\u001b[0m                            \u001b]8;id=664619;file:///home/zishan/anaconda3/envs/car_price_prediction/lib/python3.13/site-packages/kedro/io/data_catalog.py\u001b\\\u001b[2mdata_catalog.py\u001b[0m\u001b]8;;\u001b\\\u001b[2m:\u001b[0m\u001b]8;id=665645;file:///home/zishan/anaconda3/envs/car_price_prediction/lib/python3.13/site-packages/kedro/io/data_catalog.py#1046\u001b\\\u001b[2m1046\u001b[0m\u001b]8;;\u001b\\\n"
      ]
     },
     "metadata": {},
     "output_type": "display_data"
    },
    {
     "data": {
      "text/html": [
       "<pre style=\"white-space:pre;overflow-x:auto;line-height:normal;font-family:Menlo,'DejaVu Sans Mono',consolas,'Courier New',monospace\"></pre>\n"
      ],
      "text/plain": []
     },
     "metadata": {},
     "output_type": "display_data"
    },
    {
     "data": {
      "text/html": [
       "<div>\n",
       "<style scoped>\n",
       "    .dataframe tbody tr th:only-of-type {\n",
       "        vertical-align: middle;\n",
       "    }\n",
       "\n",
       "    .dataframe tbody tr th {\n",
       "        vertical-align: top;\n",
       "    }\n",
       "\n",
       "    .dataframe thead th {\n",
       "        text-align: right;\n",
       "    }\n",
       "</style>\n",
       "<table border=\"1\" class=\"dataframe\">\n",
       "  <thead>\n",
       "    <tr style=\"text-align: right;\">\n",
       "      <th></th>\n",
       "      <th>id</th>\n",
       "      <th>brand</th>\n",
       "      <th>model</th>\n",
       "      <th>model_year</th>\n",
       "      <th>milage</th>\n",
       "      <th>fuel_type</th>\n",
       "      <th>engine</th>\n",
       "      <th>transmission</th>\n",
       "      <th>ext_col</th>\n",
       "      <th>int_col</th>\n",
       "      <th>accident</th>\n",
       "      <th>clean_title</th>\n",
       "      <th>price</th>\n",
       "    </tr>\n",
       "  </thead>\n",
       "  <tbody>\n",
       "    <tr>\n",
       "      <th>0</th>\n",
       "      <td>0</td>\n",
       "      <td>MINI</td>\n",
       "      <td>Cooper S Base</td>\n",
       "      <td>2007</td>\n",
       "      <td>213000</td>\n",
       "      <td>Gasoline</td>\n",
       "      <td>172.0HP 1.6L 4 Cylinder Engine Gasoline Fuel</td>\n",
       "      <td>A/T</td>\n",
       "      <td>Yellow</td>\n",
       "      <td>Gray</td>\n",
       "      <td>None reported</td>\n",
       "      <td>Yes</td>\n",
       "      <td>4200</td>\n",
       "    </tr>\n",
       "    <tr>\n",
       "      <th>1</th>\n",
       "      <td>1</td>\n",
       "      <td>Lincoln</td>\n",
       "      <td>LS V8</td>\n",
       "      <td>2002</td>\n",
       "      <td>143250</td>\n",
       "      <td>Gasoline</td>\n",
       "      <td>252.0HP 3.9L 8 Cylinder Engine Gasoline Fuel</td>\n",
       "      <td>A/T</td>\n",
       "      <td>Silver</td>\n",
       "      <td>Beige</td>\n",
       "      <td>At least 1 accident or damage reported</td>\n",
       "      <td>Yes</td>\n",
       "      <td>4999</td>\n",
       "    </tr>\n",
       "    <tr>\n",
       "      <th>2</th>\n",
       "      <td>2</td>\n",
       "      <td>Chevrolet</td>\n",
       "      <td>Silverado 2500 LT</td>\n",
       "      <td>2002</td>\n",
       "      <td>136731</td>\n",
       "      <td>E85 Flex Fuel</td>\n",
       "      <td>320.0HP 5.3L 8 Cylinder Engine Flex Fuel Capab...</td>\n",
       "      <td>A/T</td>\n",
       "      <td>Blue</td>\n",
       "      <td>Gray</td>\n",
       "      <td>None reported</td>\n",
       "      <td>Yes</td>\n",
       "      <td>13900</td>\n",
       "    </tr>\n",
       "    <tr>\n",
       "      <th>3</th>\n",
       "      <td>3</td>\n",
       "      <td>Genesis</td>\n",
       "      <td>G90 5.0 Ultimate</td>\n",
       "      <td>2017</td>\n",
       "      <td>19500</td>\n",
       "      <td>Gasoline</td>\n",
       "      <td>420.0HP 5.0L 8 Cylinder Engine Gasoline Fuel</td>\n",
       "      <td>Transmission w/Dual Shift Mode</td>\n",
       "      <td>Black</td>\n",
       "      <td>Black</td>\n",
       "      <td>None reported</td>\n",
       "      <td>Yes</td>\n",
       "      <td>45000</td>\n",
       "    </tr>\n",
       "    <tr>\n",
       "      <th>4</th>\n",
       "      <td>4</td>\n",
       "      <td>Mercedes-Benz</td>\n",
       "      <td>Metris Base</td>\n",
       "      <td>2021</td>\n",
       "      <td>7388</td>\n",
       "      <td>Gasoline</td>\n",
       "      <td>208.0HP 2.0L 4 Cylinder Engine Gasoline Fuel</td>\n",
       "      <td>7-Speed A/T</td>\n",
       "      <td>Black</td>\n",
       "      <td>Beige</td>\n",
       "      <td>None reported</td>\n",
       "      <td>Yes</td>\n",
       "      <td>97500</td>\n",
       "    </tr>\n",
       "  </tbody>\n",
       "</table>\n",
       "</div>"
      ],
      "text/plain": [
       "\n",
       "   id          brand              model  model_year  milage      fuel_type  \\\n",
       "\u001b[1;36m0\u001b[0m   \u001b[1;36m0\u001b[0m           MINI      Cooper S Base        \u001b[1;36m2007\u001b[0m  \u001b[1;36m213000\u001b[0m       Gasoline   \n",
       "\u001b[1;36m1\u001b[0m   \u001b[1;36m1\u001b[0m        Lincoln              LS V8        \u001b[1;36m2002\u001b[0m  \u001b[1;36m143250\u001b[0m       Gasoline   \n",
       "\u001b[1;36m2\u001b[0m   \u001b[1;36m2\u001b[0m      Chevrolet  Silverado \u001b[1;36m2500\u001b[0m LT        \u001b[1;36m2002\u001b[0m  \u001b[1;36m136731\u001b[0m  E85 Flex Fuel   \n",
       "\u001b[1;36m3\u001b[0m   \u001b[1;36m3\u001b[0m        Genesis   G90 \u001b[1;36m5.0\u001b[0m Ultimate        \u001b[1;36m2017\u001b[0m   \u001b[1;36m19500\u001b[0m       Gasoline   \n",
       "\u001b[1;36m4\u001b[0m   \u001b[1;36m4\u001b[0m  Mercedes-Benz        Metris Base        \u001b[1;36m2021\u001b[0m    \u001b[1;36m7388\u001b[0m       Gasoline   \n",
       "\n",
       "                                              engine  \\\n",
       "\u001b[1;36m0\u001b[0m       \u001b[1;36m172.\u001b[0m0HP \u001b[1;36m1.\u001b[0m6L \u001b[1;36m4\u001b[0m Cylinder Engine Gasoline Fuel   \n",
       "\u001b[1;36m1\u001b[0m       \u001b[1;36m252.\u001b[0m0HP \u001b[1;36m3.\u001b[0m9L \u001b[1;36m8\u001b[0m Cylinder Engine Gasoline Fuel   \n",
       "\u001b[1;36m2\u001b[0m  \u001b[1;36m320.\u001b[0m0HP \u001b[1;36m5.\u001b[0m3L \u001b[1;36m8\u001b[0m Cylinder Engine Flex Fuel Capab\u001b[33m...\u001b[0m   \n",
       "\u001b[1;36m3\u001b[0m       \u001b[1;36m420.\u001b[0m0HP \u001b[1;36m5.\u001b[0m0L \u001b[1;36m8\u001b[0m Cylinder Engine Gasoline Fuel   \n",
       "\u001b[1;36m4\u001b[0m       \u001b[1;36m208.\u001b[0m0HP \u001b[1;36m2.\u001b[0m0L \u001b[1;36m4\u001b[0m Cylinder Engine Gasoline Fuel   \n",
       "\n",
       "                     transmission ext_col int_col  \\\n",
       "\u001b[1;36m0\u001b[0m                             A/T  Yellow    Gray   \n",
       "\u001b[1;36m1\u001b[0m                             A/T  Silver   Beige   \n",
       "\u001b[1;36m2\u001b[0m                             A/T    Blue    Gray   \n",
       "\u001b[1;36m3\u001b[0m  Transmission w/Dual Shift Mode   Black   Black   \n",
       "\u001b[1;36m4\u001b[0m                     \u001b[1;36m7\u001b[0m-Speed A/T   Black   Beige   \n",
       "\n",
       "                                 accident clean_title  price  \n",
       "\u001b[1;36m0\u001b[0m                           \u001b[3;35mNone\u001b[0m reported         Yes   \u001b[1;36m4200\u001b[0m  \n",
       "\u001b[1;36m1\u001b[0m  At least \u001b[1;36m1\u001b[0m accident or damage reported         Yes   \u001b[1;36m4999\u001b[0m  \n",
       "\u001b[1;36m2\u001b[0m                           \u001b[3;35mNone\u001b[0m reported         Yes  \u001b[1;36m13900\u001b[0m  \n",
       "\u001b[1;36m3\u001b[0m                           \u001b[3;35mNone\u001b[0m reported         Yes  \u001b[1;36m45000\u001b[0m  \n",
       "\u001b[1;36m4\u001b[0m                           \u001b[3;35mNone\u001b[0m reported         Yes  \u001b[1;36m97500\u001b[0m  "
      ]
     },
     "execution_count": 2,
     "metadata": {},
     "output_type": "execute_result"
    }
   ],
   "source": [
    "cars = catalog.load('cars')\n",
    "cars.head()"
   ]
  },
  {
   "cell_type": "code",
   "execution_count": 3,
   "id": "7a9eda98-04b6-4607-be9a-59a5b17a209d",
   "metadata": {},
   "outputs": [
    {
     "name": "stdout",
     "output_type": "stream",
     "text": [
      "<class 'pandas.core.frame.DataFrame'>\n",
      "RangeIndex: 188533 entries, 0 to 188532\n",
      "Data columns (total 13 columns):\n",
      " #   Column        Non-Null Count   Dtype \n",
      "---  ------        --------------   ----- \n",
      " 0   id            188533 non-null  int64 \n",
      " 1   brand         188533 non-null  object\n",
      " 2   model         188533 non-null  object\n",
      " 3   model_year    188533 non-null  int64 \n",
      " 4   milage        188533 non-null  int64 \n",
      " 5   fuel_type     183450 non-null  object\n",
      " 6   engine        188533 non-null  object\n",
      " 7   transmission  188533 non-null  object\n",
      " 8   ext_col       188533 non-null  object\n",
      " 9   int_col       188533 non-null  object\n",
      " 10  accident      186081 non-null  object\n",
      " 11  clean_title   167114 non-null  object\n",
      " 12  price         188533 non-null  int64 \n",
      "dtypes: int64(4), object(9)\n",
      "memory usage: 18.7+ MB\n"
     ]
    }
   ],
   "source": [
    "cars.info()"
   ]
  },
  {
   "cell_type": "markdown",
   "id": "33f451e4-0e42-489d-a8b9-52e49a5cdc15",
   "metadata": {},
   "source": [
    "### null value check"
   ]
  },
  {
   "cell_type": "code",
   "execution_count": 4,
   "id": "59a51c49-0652-44f9-aca7-d48075af5d06",
   "metadata": {},
   "outputs": [
    {
     "name": "stdout",
     "output_type": "stream",
     "text": [
      "fuel_type: 2.696%\n",
      "accident: 1.301%\n",
      "clean_title: 11.361%\n"
     ]
    }
   ],
   "source": [
    "for col in cars.columns:\n",
    "    na_percentage = cars[col].isna().sum() * 100/cars.shape[0]\n",
    "    if na_percentage:\n",
    "        print(f\"{col}: {na_percentage:.3f}%\")"
   ]
  },
  {
   "cell_type": "markdown",
   "id": "352f4e03-8b08-438a-9e2a-fc5ffaee8fdf",
   "metadata": {},
   "source": [
    "### unique value counts check"
   ]
  },
  {
   "cell_type": "code",
   "execution_count": 5,
   "id": "a8974d59-a354-4d68-b893-2d63fd4289a2",
   "metadata": {},
   "outputs": [
    {
     "name": "stdout",
     "output_type": "stream",
     "text": [
      "brand: 57 total unique values\n",
      "model: 1897 total unique values\n",
      "fuel_type: 8 total unique values\n",
      "engine: 1117 total unique values\n",
      "transmission: 52 total unique values\n",
      "ext_col: 319 total unique values\n",
      "int_col: 156 total unique values\n",
      "accident: 3 total unique values\n",
      "clean_title: 2 total unique values\n"
     ]
    }
   ],
   "source": [
    "for col in cars.columns:\n",
    "    if cars[col].dtype != 'object':\n",
    "        continue\n",
    "    unq_cnt = len(cars[col].unique())\n",
    "    print(f\"{col}: {unq_cnt} total unique values\")"
   ]
  },
  {
   "cell_type": "markdown",
   "id": "a393071c-2600-49be-bf75-88a7119e9c92",
   "metadata": {},
   "source": [
    "### numeric columns check"
   ]
  },
  {
   "cell_type": "code",
   "execution_count": 6,
   "id": "8da76782-b565-41e2-a88d-51177d8a12bf",
   "metadata": {},
   "outputs": [
    {
     "data": {
      "text/html": [
       "<pre style=\"white-space:pre;overflow-x:auto;line-height:normal;font-family:Menlo,'DejaVu Sans Mono',consolas,'Courier New',monospace\"></pre>\n"
      ],
      "text/plain": []
     },
     "metadata": {},
     "output_type": "display_data"
    },
    {
     "data": {
      "text/html": [
       "<div>\n",
       "<style scoped>\n",
       "    .dataframe tbody tr th:only-of-type {\n",
       "        vertical-align: middle;\n",
       "    }\n",
       "\n",
       "    .dataframe tbody tr th {\n",
       "        vertical-align: top;\n",
       "    }\n",
       "\n",
       "    .dataframe thead th {\n",
       "        text-align: right;\n",
       "    }\n",
       "</style>\n",
       "<table border=\"1\" class=\"dataframe\">\n",
       "  <thead>\n",
       "    <tr style=\"text-align: right;\">\n",
       "      <th></th>\n",
       "      <th>id</th>\n",
       "      <th>model_year</th>\n",
       "      <th>milage</th>\n",
       "      <th>price</th>\n",
       "    </tr>\n",
       "  </thead>\n",
       "  <tbody>\n",
       "    <tr>\n",
       "      <th>count</th>\n",
       "      <td>188533.000000</td>\n",
       "      <td>188533.000000</td>\n",
       "      <td>188533.000000</td>\n",
       "      <td>1.885330e+05</td>\n",
       "    </tr>\n",
       "    <tr>\n",
       "      <th>mean</th>\n",
       "      <td>94266.000000</td>\n",
       "      <td>2015.829998</td>\n",
       "      <td>65705.295174</td>\n",
       "      <td>4.387802e+04</td>\n",
       "    </tr>\n",
       "    <tr>\n",
       "      <th>std</th>\n",
       "      <td>54424.933488</td>\n",
       "      <td>5.660967</td>\n",
       "      <td>49798.158076</td>\n",
       "      <td>7.881952e+04</td>\n",
       "    </tr>\n",
       "    <tr>\n",
       "      <th>min</th>\n",
       "      <td>0.000000</td>\n",
       "      <td>1974.000000</td>\n",
       "      <td>100.000000</td>\n",
       "      <td>2.000000e+03</td>\n",
       "    </tr>\n",
       "    <tr>\n",
       "      <th>25%</th>\n",
       "      <td>47133.000000</td>\n",
       "      <td>2013.000000</td>\n",
       "      <td>24115.000000</td>\n",
       "      <td>1.700000e+04</td>\n",
       "    </tr>\n",
       "    <tr>\n",
       "      <th>50%</th>\n",
       "      <td>94266.000000</td>\n",
       "      <td>2017.000000</td>\n",
       "      <td>57785.000000</td>\n",
       "      <td>3.082500e+04</td>\n",
       "    </tr>\n",
       "    <tr>\n",
       "      <th>75%</th>\n",
       "      <td>141399.000000</td>\n",
       "      <td>2020.000000</td>\n",
       "      <td>95400.000000</td>\n",
       "      <td>4.990000e+04</td>\n",
       "    </tr>\n",
       "    <tr>\n",
       "      <th>max</th>\n",
       "      <td>188532.000000</td>\n",
       "      <td>2024.000000</td>\n",
       "      <td>405000.000000</td>\n",
       "      <td>2.954083e+06</td>\n",
       "    </tr>\n",
       "  </tbody>\n",
       "</table>\n",
       "</div>"
      ],
      "text/plain": [
       "\n",
       "                  id     model_year         milage         price\n",
       "count  \u001b[1;36m188533.000000\u001b[0m  \u001b[1;36m188533.000000\u001b[0m  \u001b[1;36m188533.000000\u001b[0m  \u001b[1;36m1.885330e+05\u001b[0m\n",
       "mean    \u001b[1;36m94266.000000\u001b[0m    \u001b[1;36m2015.829998\u001b[0m   \u001b[1;36m65705.295174\u001b[0m  \u001b[1;36m4.387802e+04\u001b[0m\n",
       "std     \u001b[1;36m54424.933488\u001b[0m       \u001b[1;36m5.660967\u001b[0m   \u001b[1;36m49798.158076\u001b[0m  \u001b[1;36m7.881952e+04\u001b[0m\n",
       "min         \u001b[1;36m0.000000\u001b[0m    \u001b[1;36m1974.000000\u001b[0m     \u001b[1;36m100.000000\u001b[0m  \u001b[1;36m2.000000e+03\u001b[0m\n",
       "\u001b[1;36m25\u001b[0m%     \u001b[1;36m47133.000000\u001b[0m    \u001b[1;36m2013.000000\u001b[0m   \u001b[1;36m24115.000000\u001b[0m  \u001b[1;36m1.700000e+04\u001b[0m\n",
       "\u001b[1;36m50\u001b[0m%     \u001b[1;36m94266.000000\u001b[0m    \u001b[1;36m2017.000000\u001b[0m   \u001b[1;36m57785.000000\u001b[0m  \u001b[1;36m3.082500e+04\u001b[0m\n",
       "\u001b[1;36m75\u001b[0m%    \u001b[1;36m141399.000000\u001b[0m    \u001b[1;36m2020.000000\u001b[0m   \u001b[1;36m95400.000000\u001b[0m  \u001b[1;36m4.990000e+04\u001b[0m\n",
       "max    \u001b[1;36m188532.000000\u001b[0m    \u001b[1;36m2024.000000\u001b[0m  \u001b[1;36m405000.000000\u001b[0m  \u001b[1;36m2.954083e+06\u001b[0m"
      ]
     },
     "execution_count": 6,
     "metadata": {},
     "output_type": "execute_result"
    }
   ],
   "source": [
    "cars.describe()"
   ]
  },
  {
   "cell_type": "code",
   "execution_count": 38,
   "id": "3992d2c4-107a-4e20-8d90-7fd675c40be0",
   "metadata": {},
   "outputs": [],
   "source": [
    "import numpy as np\n",
    "import pandas as pd\n",
    "import matplotlib.pyplot as plt\n",
    "import seaborn as sns"
   ]
  },
  {
   "cell_type": "code",
   "execution_count": 8,
   "id": "b7ab2941-4e4f-4b02-9fe7-1fae6d5d575b",
   "metadata": {},
   "outputs": [
    {
     "data": {
      "text/html": [
       "<pre style=\"white-space:pre;overflow-x:auto;line-height:normal;font-family:Menlo,'DejaVu Sans Mono',consolas,'Courier New',monospace\"></pre>\n"
      ],
      "text/plain": []
     },
     "metadata": {},
     "output_type": "display_data"
    },
    {
     "data": {
      "image/png": "[encoded data removed]",
      "text/plain": [
       "\u001b[1m<\u001b[0m\u001b[1;95mFigure\u001b[0m\u001b[39m size 120\u001b[0m\u001b[1;36m0x600\u001b[0m\u001b[39m with \u001b[0m\u001b[1;36m1\u001b[0m\u001b[39m Axes\u001b[0m\u001b[1m>\u001b[0m"
      ]
     },
     "metadata": {},
     "output_type": "display_data"
    }
   ],
   "source": [
    "usual_cars = cars[cars['price']/1e6 < 0.2]\n",
    "plt.figure(figsize=(12, 6))\n",
    "sns.histplot(usual_cars, kde=True, bins=100)\n",
    "plt.title('Price Distribution')\n",
    "plt.show()"
   ]
  },
  {
   "cell_type": "code",
   "execution_count": 9,
   "id": "fbe22065-d1bd-4db2-951c-53f1d920c660",
   "metadata": {},
   "outputs": [
    {
     "data": {
      "text/html": [
       "<pre style=\"white-space:pre;overflow-x:auto;line-height:normal;font-family:Menlo,'DejaVu Sans Mono',consolas,'Courier New',monospace\"></pre>\n"
      ],
      "text/plain": []
     },
     "metadata": {},
     "output_type": "display_data"
    },
    {
     "data": {
      "text/plain": [
       "\u001b[1;36m0\u001b[0m"
      ]
     },
     "execution_count": 9,
     "metadata": {},
     "output_type": "execute_result"
    }
   ],
   "source": [
    "len(cars[cars['price']==0])"
   ]
  },
  {
   "cell_type": "code",
   "execution_count": 10,
   "id": "a428bfbf-65c6-46f7-8859-d3c97d6e9fdb",
   "metadata": {},
   "outputs": [],
   "source": [
    "def _is_equal(x: pd.Series, s: str) -> pd.Series:\n",
    "    return x == s"
   ]
  },
  {
   "cell_type": "code",
   "execution_count": 11,
   "id": "64573ccc-ca97-4640-bced-656f3b7468f4",
   "metadata": {},
   "outputs": [],
   "source": [
    "cars['accident'] = _is_equal(cars['accident'], 'At least 1 accident or damage reported')\n",
    "cars['clean_title'] = _is_equal(cars['clean_title'], 'Yes')"
   ]
  },
  {
   "cell_type": "code",
   "execution_count": 12,
   "id": "b0d6851b-1ffc-4c27-9713-db7c3bfafe4e",
   "metadata": {},
   "outputs": [
    {
     "data": {
      "text/html": [
       "<pre style=\"white-space:pre;overflow-x:auto;line-height:normal;font-family:Menlo,'DejaVu Sans Mono',consolas,'Courier New',monospace\"></pre>\n"
      ],
      "text/plain": []
     },
     "metadata": {},
     "output_type": "display_data"
    },
    {
     "data": {
      "text/plain": [
       "\n",
       "id               int64\n",
       "brand           object\n",
       "model           object\n",
       "model_year       int64\n",
       "milage           int64\n",
       "fuel_type       object\n",
       "engine          object\n",
       "transmission    object\n",
       "ext_col         object\n",
       "int_col         object\n",
       "accident          bool\n",
       "clean_title       bool\n",
       "price            int64\n",
       "dtype: object"
      ]
     },
     "execution_count": 12,
     "metadata": {},
     "output_type": "execute_result"
    }
   ],
   "source": [
    "cars.dtypes"
   ]
  },
  {
   "cell_type": "code",
   "execution_count": 13,
   "id": "f6d2d90d-6789-4fd8-91c7-6a486a5f3080",
   "metadata": {},
   "outputs": [
    {
     "name": "stdout",
     "output_type": "stream",
     "text": [
      "156\n",
      "150\n"
     ]
    }
   ],
   "source": [
    "print(len(cars['int_col'].unique()))\n",
    "print(len(cars['int_col'].str.replace(' ', '').str.lower().unique()))"
   ]
  },
  {
   "cell_type": "code",
   "execution_count": 14,
   "id": "f2d509df-c261-491c-bbae-e5f8c5fc8bb5",
   "metadata": {},
   "outputs": [
    {
     "data": {
      "text/html": [
       "<pre style=\"white-space:pre;overflow-x:auto;line-height:normal;font-family:Menlo,'DejaVu Sans Mono',consolas,'Courier New',monospace\"></pre>\n"
      ],
      "text/plain": []
     },
     "metadata": {},
     "output_type": "display_data"
    },
    {
     "data": {
      "text/plain": [
       "\u001b[1;36m150\u001b[0m"
      ]
     },
     "execution_count": 14,
     "metadata": {},
     "output_type": "execute_result"
    }
   ],
   "source": [
    "unq_colors = cars['int_col'].str.replace(' ', '').str.lower().unique()\n",
    "len(unq_colors)"
   ]
  },
  {
   "cell_type": "code",
   "execution_count": 15,
   "id": "38330111-37c1-463a-b1bc-522f3657fcd9",
   "metadata": {},
   "outputs": [],
   "source": [
    "from rapidfuzz.fuzz import ratio\n",
    "from itertools import combinations\n",
    "\n",
    "first = []\n",
    "second = []\n",
    "score = []\n",
    "for a, b in combinations(unq_colors, 2):\n",
    "    rat = ratio(a, b)\n",
    "    if rat > 0.8:\n",
    "        first.append(a)\n",
    "        second.append(b)\n",
    "        score.append(rat)\n",
    "        \n",
    "similar_cols = pd.DataFrame({\n",
    "    'first': first,\n",
    "    'second': second,\n",
    "    'score': score,\n",
    "})\n",
    "    "
   ]
  },
  {
   "cell_type": "code",
   "execution_count": 16,
   "id": "c6bf77d3-78e4-42c9-b6c2-0ca76bf33cb7",
   "metadata": {},
   "outputs": [
    {
     "data": {
      "text/html": [
       "<pre style=\"white-space:pre;overflow-x:auto;line-height:normal;font-family:Menlo,'DejaVu Sans Mono',consolas,'Courier New',monospace\"></pre>\n"
      ],
      "text/plain": []
     },
     "metadata": {},
     "output_type": "display_data"
    },
    {
     "data": {
      "text/plain": [
       "\u001b[1;35mnp.float64\u001b[0m\u001b[1m(\u001b[0m\u001b[1;36m0.9686367903762206\u001b[0m\u001b[1m)\u001b[0m"
      ]
     },
     "execution_count": 16,
     "metadata": {},
     "output_type": "execute_result"
    }
   ],
   "source": [
    "counts = cars['int_col'].value_counts()\n",
    "#(counts[counts > 200].sum() / counts.sum()) * 100\n",
    "counts.head(20).sum()/counts.sum()"
   ]
  },
  {
   "cell_type": "code",
   "execution_count": 17,
   "id": "709f73b3-61c5-4414-baf7-313fb28eacf3",
   "metadata": {},
   "outputs": [
    {
     "data": {
      "text/html": [
       "<pre style=\"white-space:pre;overflow-x:auto;line-height:normal;font-family:Menlo,'DejaVu Sans Mono',consolas,'Courier New',monospace\"></pre>\n"
      ],
      "text/plain": []
     },
     "metadata": {},
     "output_type": "display_data"
    },
    {
     "data": {
      "text/plain": [
       "\u001b[1;35mnp.float64\u001b[0m\u001b[1m(\u001b[0m\u001b[1;36m0.9132936939421746\u001b[0m\u001b[1m)\u001b[0m"
      ]
     },
     "execution_count": 17,
     "metadata": {},
     "output_type": "execute_result"
    }
   ],
   "source": [
    "counts = cars['ext_col'].value_counts()\n",
    "counts.head(20).sum()/counts.sum()"
   ]
  },
  {
   "cell_type": "code",
   "execution_count": 18,
   "id": "a08bbaba-3d6f-4a43-8b55-026cfabf7ddb",
   "metadata": {},
   "outputs": [
    {
     "data": {
      "text/html": [
       "<pre style=\"white-space:pre;overflow-x:auto;line-height:normal;font-family:Menlo,'DejaVu Sans Mono',consolas,'Courier New',monospace\"></pre>\n"
      ],
      "text/plain": []
     },
     "metadata": {},
     "output_type": "display_data"
    },
    {
     "data": {
      "text/plain": [
       "\u001b[1m{\u001b[0m\u001b[32m' '\u001b[0m, \u001b[32m'.'\u001b[0m, \u001b[32m'–'\u001b[0m, \u001b[32m'/'\u001b[0m\u001b[1m}\u001b[0m"
      ]
     },
     "execution_count": 18,
     "metadata": {},
     "output_type": "execute_result"
    }
   ],
   "source": [
    "spe_chr = set()\n",
    "def find_special_chars(text):\n",
    "    for c in text:\n",
    "        if not c.isalpha():\n",
    "            spe_chr.add(c)\n",
    "\n",
    "cars['int_col'].apply(find_special_chars)\n",
    "spe_chr"
   ]
  },
  {
   "cell_type": "code",
   "execution_count": 19,
   "id": "8b430720-1227-419f-a188-c41b9f14440a",
   "metadata": {},
   "outputs": [
    {
     "data": {
      "text/html": [
       "<pre style=\"white-space:pre;overflow-x:auto;line-height:normal;font-family:Menlo,'DejaVu Sans Mono',consolas,'Courier New',monospace\"></pre>\n"
      ],
      "text/plain": []
     },
     "metadata": {},
     "output_type": "display_data"
    },
    {
     "data": {
      "text/plain": [
       "\u001b[1m{\u001b[0m\u001b[32m' '\u001b[0m, \u001b[32m'.'\u001b[0m, \u001b[32m'/'\u001b[0m, \u001b[32m'!'\u001b[0m, \u001b[32m'–'\u001b[0m, \u001b[32m'-'\u001b[0m\u001b[1m}\u001b[0m"
      ]
     },
     "execution_count": 19,
     "metadata": {},
     "output_type": "execute_result"
    }
   ],
   "source": [
    "cars['ext_col'].apply(find_special_chars)\n",
    "spe_chr"
   ]
  },
  {
   "cell_type": "code",
   "execution_count": 20,
   "id": "f82bd808-8d07-4054-8e8e-dcb838a4f669",
   "metadata": {},
   "outputs": [],
   "source": [
    "def _keep_top_n(x: pd.Series, n: int) -> pd.Series:\n",
    "    y = x.copy()\n",
    "    y[y == '–'] = 'Unknown'\n",
    "    top_20 = y.value_counts().head(n).index.to_list()\n",
    "    y[~y.isin(top_20)] = 'Other'\n",
    "    return y"
   ]
  },
  {
   "cell_type": "code",
   "execution_count": 21,
   "id": "7628df6c-2331-4cba-a810-b44c2e33b00c",
   "metadata": {},
   "outputs": [],
   "source": [
    "cars['int_col'] = _keep_top_n(cars['int_col'], 20)\n",
    "cars['ext_col'] = _keep_top_n(cars['ext_col'], 20)"
   ]
  },
  {
   "cell_type": "code",
   "execution_count": 22,
   "id": "3f34f257-9196-404a-82ab-f40148cc2338",
   "metadata": {},
   "outputs": [
    {
     "name": "stdout",
     "output_type": "stream",
     "text": [
      "['Yellow' 'Silver' 'Blue' 'Black' 'White' 'Other' 'Gray' 'Green' 'Red'\n",
      " 'Diamond Black' 'Beige' 'Gold' 'Orange' 'Brown' 'Agate Black Metallic'\n",
      " 'Bright White Clearcoat' 'Summit White' 'Unknown'\n",
      " 'Midnight Black Metallic' 'Mythos Black Metallic' 'Silver Ice Metallic']\n",
      "['Gray' 'Beige' 'Black' 'Unknown' 'Blue' 'White' 'Red' 'Brown' 'Other'\n",
      " 'Orange' 'Ebony' 'Jet Black' 'Silver' 'Gold' 'Rioja Red' 'Global Black'\n",
      " 'Diesel Gray / Black' 'Black Onyx' 'Black / Express Red' 'Nero Ade'\n",
      " 'Graphite']\n"
     ]
    }
   ],
   "source": [
    "print(cars['ext_col'].unique())\n",
    "print(cars['int_col'].unique())"
   ]
  },
  {
   "cell_type": "code",
   "execution_count": 23,
   "id": "57a70b97-316e-4264-81af-bd41a766a79d",
   "metadata": {},
   "outputs": [
    {
     "data": {
      "text/html": [
       "<pre style=\"white-space:pre;overflow-x:auto;line-height:normal;font-family:Menlo,'DejaVu Sans Mono',consolas,'Courier New',monospace\"></pre>\n"
      ],
      "text/plain": []
     },
     "metadata": {},
     "output_type": "display_data"
    },
    {
     "data": {
      "text/plain": [
       "\n",
       "id               int64\n",
       "brand           object\n",
       "model           object\n",
       "model_year       int64\n",
       "milage           int64\n",
       "fuel_type       object\n",
       "engine          object\n",
       "transmission    object\n",
       "ext_col         object\n",
       "int_col         object\n",
       "accident          bool\n",
       "clean_title       bool\n",
       "price            int64\n",
       "dtype: object"
      ]
     },
     "execution_count": 23,
     "metadata": {},
     "output_type": "execute_result"
    }
   ],
   "source": [
    "cars.dtypes"
   ]
  },
  {
   "cell_type": "code",
   "execution_count": 24,
   "id": "9ef0e5ab-851e-41d9-a22b-56095fabf058",
   "metadata": {},
   "outputs": [
    {
     "data": {
      "text/html": [
       "<pre style=\"white-space:pre;overflow-x:auto;line-height:normal;font-family:Menlo,'DejaVu Sans Mono',consolas,'Courier New',monospace\"></pre>\n"
      ],
      "text/plain": []
     },
     "metadata": {},
     "output_type": "display_data"
    },
    {
     "data": {
      "text/plain": [
       "\u001b[1;36m34\u001b[0m"
      ]
     },
     "execution_count": 24,
     "metadata": {},
     "output_type": "execute_result"
    }
   ],
   "source": [
    "len(cars['model_year'].value_counts())"
   ]
  },
  {
   "cell_type": "code",
   "execution_count": 25,
   "id": "8e9a48d3-5bc3-4456-a3ef-263e223ab911",
   "metadata": {},
   "outputs": [
    {
     "data": {
      "text/html": [
       "<pre style=\"white-space:pre;overflow-x:auto;line-height:normal;font-family:Menlo,'DejaVu Sans Mono',consolas,'Courier New',monospace\"></pre>\n"
      ],
      "text/plain": []
     },
     "metadata": {},
     "output_type": "display_data"
    },
    {
     "data": {
      "image/png": "[encoded data removed]",
      "text/plain": [
       "\u001b[1m<\u001b[0m\u001b[1;95mFigure\u001b[0m\u001b[39m size 120\u001b[0m\u001b[1;36m0x600\u001b[0m\u001b[39m with \u001b[0m\u001b[1;36m1\u001b[0m\u001b[39m Axes\u001b[0m\u001b[1m>\u001b[0m"
      ]
     },
     "metadata": {},
     "output_type": "display_data"
    }
   ],
   "source": [
    "import numpy as np\n",
    "plt.figure(figsize=(12,6))\n",
    "sns.histplot(cars['milage'], kde=True, bins=200)\n",
    "plt.show()"
   ]
  },
  {
   "cell_type": "code",
   "execution_count": 26,
   "id": "7ae56b03-96b6-484e-acb0-55d11903e76d",
   "metadata": {},
   "outputs": [
    {
     "data": {
      "text/html": [
       "<pre style=\"white-space:pre;overflow-x:auto;line-height:normal;font-family:Menlo,'DejaVu Sans Mono',consolas,'Courier New',monospace\"></pre>\n"
      ],
      "text/plain": []
     },
     "metadata": {},
     "output_type": "display_data"
    },
    {
     "data": {
      "image/png": "[encoded data removed]",
      "text/plain": [
       "\u001b[1m<\u001b[0m\u001b[1;95mFigure\u001b[0m\u001b[39m size 120\u001b[0m\u001b[1;36m0x600\u001b[0m\u001b[39m with \u001b[0m\u001b[1;36m1\u001b[0m\u001b[39m Axes\u001b[0m\u001b[1m>\u001b[0m"
      ]
     },
     "metadata": {},
     "output_type": "display_data"
    }
   ],
   "source": [
    "import numpy as np\n",
    "plt.figure(figsize=(12,6))\n",
    "sns.boxplot(cars['milage'])\n",
    "plt.show()"
   ]
  },
  {
   "cell_type": "code",
   "execution_count": 27,
   "id": "3a32c60e-bec5-4fe6-bac6-83cdf051ab5f",
   "metadata": {},
   "outputs": [
    {
     "data": {
      "text/html": [
       "<pre style=\"white-space:pre;overflow-x:auto;line-height:normal;font-family:Menlo,'DejaVu Sans Mono',consolas,'Courier New',monospace\"></pre>\n"
      ],
      "text/plain": []
     },
     "metadata": {},
     "output_type": "display_data"
    },
    {
     "data": {
      "text/plain": [
       "\n",
       "fuel_type\n",
       "Gasoline          \u001b[1;36m165940\u001b[0m\n",
       "Hybrid              \u001b[1;36m6832\u001b[0m\n",
       "E85 Flex Fuel       \u001b[1;36m5406\u001b[0m\n",
       "Diesel              \u001b[1;36m3955\u001b[0m\n",
       "–                    \u001b[1;36m781\u001b[0m\n",
       "Plug-In Hybrid       \u001b[1;36m521\u001b[0m\n",
       "not supported         \u001b[1;36m15\u001b[0m\n",
       "Name: count, dtype: int64"
      ]
     },
     "execution_count": 27,
     "metadata": {},
     "output_type": "execute_result"
    }
   ],
   "source": [
    "cars['fuel_type'].value_counts()"
   ]
  },
  {
   "cell_type": "code",
   "execution_count": 28,
   "id": "ccba9d17-ea84-4253-8c48-a55baf36d239",
   "metadata": {},
   "outputs": [
    {
     "data": {
      "text/html": [
       "<pre style=\"white-space:pre;overflow-x:auto;line-height:normal;font-family:Menlo,'DejaVu Sans Mono',consolas,'Courier New',monospace\"></pre>\n"
      ],
      "text/plain": []
     },
     "metadata": {},
     "output_type": "display_data"
    },
    {
     "data": {
      "text/plain": [
       "\n",
       "transmission\n",
       "A/T                                                   \u001b[1;36m49904\u001b[0m\n",
       "\u001b[1;36m8\u001b[0m-Speed A/T                                           \u001b[1;36m20645\u001b[0m\n",
       "Transmission w/Dual Shift Mode                        \u001b[1;36m19255\u001b[0m\n",
       "\u001b[1;36m6\u001b[0m-Speed A/T                                           \u001b[1;36m18044\u001b[0m\n",
       "\u001b[1;36m6\u001b[0m-Speed M/T                                           \u001b[1;36m11998\u001b[0m\n",
       "\u001b[1;36m7\u001b[0m-Speed A/T                                           \u001b[1;36m11124\u001b[0m\n",
       "Automatic                                             \u001b[1;36m10691\u001b[0m\n",
       "\u001b[1;36m8\u001b[0m-Speed Automatic                                      \u001b[1;36m8431\u001b[0m\n",
       "\u001b[1;36m10\u001b[0m-Speed A/T                                           \u001b[1;36m8044\u001b[0m\n",
       "\u001b[1;36m9\u001b[0m-Speed A/T                                            \u001b[1;36m3866\u001b[0m\n",
       "\u001b[1;36m5\u001b[0m-Speed A/T                                            \u001b[1;36m3217\u001b[0m\n",
       "\u001b[1;36m10\u001b[0m-Speed Automatic                                     \u001b[1;36m3164\u001b[0m\n",
       "\u001b[1;36m6\u001b[0m-Speed Automatic                                      \u001b[1;36m2799\u001b[0m\n",
       "\u001b[1;36m4\u001b[0m-Speed A/T                                            \u001b[1;36m2546\u001b[0m\n",
       "\u001b[1;36m5\u001b[0m-Speed M/T                                            \u001b[1;36m2409\u001b[0m\n",
       "\u001b[1;36m9\u001b[0m-Speed Automatic                                      \u001b[1;36m2325\u001b[0m\n",
       "CVT Transmission                                       \u001b[1;36m1990\u001b[0m\n",
       "\u001b[1;36m1\u001b[0m-Speed A/T                                            \u001b[1;36m1869\u001b[0m\n",
       "M/T                                                    \u001b[1;36m1179\u001b[0m\n",
       "\u001b[1;36m7\u001b[0m-Speed Automatic with Auto-Shift                      \u001b[1;36m1172\u001b[0m\n",
       "Automatic CVT                                           \u001b[1;36m829\u001b[0m\n",
       "\u001b[1;36m8\u001b[0m-Speed Automatic with Auto-Shift                       \u001b[1;36m549\u001b[0m\n",
       "\u001b[1;36m1\u001b[0m-Speed Automatic                                       \u001b[1;36m365\u001b[0m\n",
       "\u001b[1;36m7\u001b[0m-Speed M/T                                             \u001b[1;36m355\u001b[0m\n",
       "\u001b[1;36m6\u001b[0m-Speed Manual                                          \u001b[1;36m211\u001b[0m\n",
       "\u001b[1;36m7\u001b[0m-Speed Automatic                                       \u001b[1;36m178\u001b[0m\n",
       "\u001b[1;36m5\u001b[0m-Speed Automatic                                       \u001b[1;36m159\u001b[0m\n",
       "Transmission Overdrive Switch                           \u001b[1;36m156\u001b[0m\n",
       "\u001b[1;36m7\u001b[0m-Speed Manual                                          \u001b[1;36m151\u001b[0m\n",
       "\u001b[1;36m6\u001b[0m-Speed Automatic with Auto-Shift                       \u001b[1;36m111\u001b[0m\n",
       "\u001b[1;36m2\u001b[0m                                                        \u001b[1;36m91\u001b[0m\n",
       "–                                                        \u001b[1;36m87\u001b[0m\n",
       "\u001b[1;36m2\u001b[0m-Speed A/T                                              \u001b[1;36m71\u001b[0m\n",
       "Variable                                                 \u001b[1;36m66\u001b[0m\n",
       "F                                                        \u001b[1;36m65\u001b[0m\n",
       "\u001b[1;36m4\u001b[0m-Speed Automatic                                        \u001b[1;36m48\u001b[0m\n",
       "\u001b[1;36m10\u001b[0m-Speed Automatic with Overdrive                        \u001b[1;36m40\u001b[0m\n",
       "\u001b[1;36m6\u001b[0m Speed Mt                                               \u001b[1;36m37\u001b[0m\n",
       "\u001b[1;36m9\u001b[0m-Speed Automatic with Auto-Shift                        \u001b[1;36m33\u001b[0m\n",
       "\u001b[1;36m6\u001b[0m-Speed Electronically Controlled Automatic with O       \u001b[1;36m31\u001b[0m\n",
       "\u001b[1;36m7\u001b[0m-Speed                                                  \u001b[1;36m29\u001b[0m\n",
       "\u001b[1;36m8\u001b[0m-Speed Manual                                           \u001b[1;36m28\u001b[0m\n",
       "\u001b[1;36m6\u001b[0m-Speed                                                  \u001b[1;36m27\u001b[0m\n",
       "Manual                                                   \u001b[1;36m27\u001b[0m\n",
       "\u001b[1;36m2\u001b[0m-Speed Automatic                                        \u001b[1;36m22\u001b[0m\n",
       "\u001b[1;36m6\u001b[0m Speed At/Mt                                            \u001b[1;36m20\u001b[0m\n",
       "\u001b[1;36m7\u001b[0m-Speed DCT Automatic                                    \u001b[1;36m18\u001b[0m\n",
       "Single-Speed Fixed Gear                                  \u001b[1;36m16\u001b[0m\n",
       "CVT-F                                                    \u001b[1;36m15\u001b[0m\n",
       "\u001b[1;36m8\u001b[0m-SPEED AT                                               \u001b[1;36m13\u001b[0m\n",
       "\u001b[1;36m8\u001b[0m-SPEED A/T                                               \u001b[1;36m7\u001b[0m\n",
       "SCHEDULED FOR OR IN PRODUCTION                            \u001b[1;36m6\u001b[0m\n",
       "Name: count, dtype: int64"
      ]
     },
     "execution_count": 28,
     "metadata": {},
     "output_type": "execute_result"
    }
   ],
   "source": [
    "cnts = cars['transmission'].value_counts()\n",
    "cnts\n",
    "#cnts[cnts.index.str.contains('Speed')].sum()/cnts.sum()"
   ]
  },
  {
   "cell_type": "code",
   "execution_count": 29,
   "id": "fa497ef4-bc35-4f12-832c-f1fe6c3aa15d",
   "metadata": {},
   "outputs": [
    {
     "data": {
      "text/html": [
       "<pre style=\"white-space:pre;overflow-x:auto;line-height:normal;font-family:Menlo,'DejaVu Sans Mono',consolas,'Courier New',monospace\"></pre>\n"
      ],
      "text/plain": []
     },
     "metadata": {},
     "output_type": "display_data"
    },
    {
     "data": {
      "text/plain": [
       "\u001b[1;35mnp.float64\u001b[0m\u001b[1m(\u001b[0m\u001b[1;36m0.1261635893981425\u001b[0m\u001b[1m)\u001b[0m"
      ]
     },
     "execution_count": 29,
     "metadata": {},
     "output_type": "execute_result"
    }
   ],
   "source": [
    "t_copy = cars['transmission']\n",
    "t_copy = t_copy.str.replace('Automatic', 'A/T')\n",
    "t_copy[(~t_copy.str.contains('Speed'))&(t_copy!='A/T')].value_counts().sum() / len(cars)"
   ]
  },
  {
   "cell_type": "code",
   "execution_count": 30,
   "id": "69dbc64b-ef35-4dc1-bd7e-cda8849a0c2a",
   "metadata": {},
   "outputs": [],
   "source": [
    "e_copy = cars['engine']"
   ]
  },
  {
   "cell_type": "code",
   "execution_count": 31,
   "id": "2e8f18a8-eada-4b2c-a930-e78830adf533",
   "metadata": {},
   "outputs": [
    {
     "data": {
      "text/html": [
       "<pre style=\"white-space:pre;overflow-x:auto;line-height:normal;font-family:Menlo,'DejaVu Sans Mono',consolas,'Courier New',monospace\"></pre>\n"
      ],
      "text/plain": []
     },
     "metadata": {},
     "output_type": "display_data"
    },
    {
     "data": {
      "text/plain": [
       "\u001b[1;35mnp.float64\u001b[0m\u001b[1m(\u001b[0m\u001b[1;36m0.9644730630711865\u001b[0m\u001b[1m)\u001b[0m"
      ]
     },
     "execution_count": 31,
     "metadata": {},
     "output_type": "execute_result"
    }
   ],
   "source": [
    "e_copy[e_copy.str.contains('L')].value_counts().sum() / len(e_copy)"
   ]
  },
  {
   "cell_type": "code",
   "execution_count": 32,
   "id": "d7c6532e-b4a8-40dc-be3f-43f3de9ecd7e",
   "metadata": {},
   "outputs": [],
   "source": [
    "import re"
   ]
  },
  {
   "cell_type": "code",
   "execution_count": 33,
   "id": "8e3a7f70-5e4b-4fd9-b1ff-94ffa17ddcca",
   "metadata": {},
   "outputs": [],
   "source": [
    "import re\n",
    "\n",
    "def _extract_num_cylinders(engine_str):\n",
    "    if pd.isna(engine_str):\n",
    "        return None\n",
    "    \n",
    "    engine_str = str(engine_str)\n",
    "    \n",
    "    pattern = r'(?:Flat\\s+(\\d+)|V(\\d+)|(\\d+)\\s+Cylinder|I(\\d+))'\n",
    "    \n",
    "    match = re.search(pattern, engine_str, re.IGNORECASE)\n",
    "    if match:\n",
    "        for group in match.groups():\n",
    "            if group is not None:\n",
    "                return int(group)\n",
    "    \n",
    "    return None"
   ]
  },
  {
   "cell_type": "code",
   "execution_count": 34,
   "id": "4bbfad37-8e9d-43e5-8fc5-6f8080bde2ba",
   "metadata": {},
   "outputs": [],
   "source": [
    "num_cylinders = e_copy.apply(_extract_num_cylinders)"
   ]
  },
  {
   "cell_type": "code",
   "execution_count": 35,
   "id": "68ee34f4-5230-4246-9f3c-267ad727df75",
   "metadata": {},
   "outputs": [
    {
     "data": {
      "text/html": [
       "<pre style=\"white-space:pre;overflow-x:auto;line-height:normal;font-family:Menlo,'DejaVu Sans Mono',consolas,'Courier New',monospace\"></pre>\n"
      ],
      "text/plain": []
     },
     "metadata": {},
     "output_type": "display_data"
    },
    {
     "data": {
      "text/plain": [
       "\u001b[1;35mnp.float64\u001b[0m\u001b[1m(\u001b[0m\u001b[1;36m0.9194517670646518\u001b[0m\u001b[1m)\u001b[0m"
      ]
     },
     "execution_count": 35,
     "metadata": {},
     "output_type": "execute_result"
    }
   ],
   "source": [
    "num_cylinders.value_counts().sum() / len(e_copy)"
   ]
  },
  {
   "cell_type": "code",
   "execution_count": 36,
   "id": "05cd7ba2-41fc-40ae-bfe1-1152c4b5689f",
   "metadata": {},
   "outputs": [],
   "source": [
    "def _extract_vol_cylinders(engine_str):\n",
    "    if pd.isna(engine_str):\n",
    "        return None\n",
    "    \n",
    "    engine_str = str(engine_str)\n",
    "    \n",
    "    pattern = r'(\\d+\\.?\\d*)\\s*L'\n",
    "    \n",
    "    match = re.search(pattern, engine_str, re.IGNORECASE)\n",
    "    if match:\n",
    "        for group in match.groups():\n",
    "            if group is not None:\n",
    "                return float(group)\n",
    "    \n",
    "    return None"
   ]
  },
  {
   "cell_type": "code",
   "execution_count": 37,
   "id": "91ba781e-2660-403f-9e44-75f25146d00e",
   "metadata": {},
   "outputs": [],
   "source": [
    "vol_cylinders = e_copy.apply(_extract_vol_cylinders)"
   ]
  },
  {
   "cell_type": "code",
   "execution_count": 38,
   "id": "dd506132-856c-4d0e-a59d-ead7276eda4e",
   "metadata": {},
   "outputs": [
    {
     "data": {
      "text/html": [
       "<pre style=\"white-space:pre;overflow-x:auto;line-height:normal;font-family:Menlo,'DejaVu Sans Mono',consolas,'Courier New',monospace\"></pre>\n"
      ],
      "text/plain": []
     },
     "metadata": {},
     "output_type": "display_data"
    },
    {
     "data": {
      "text/plain": [
       "\u001b[1;35mnp.float64\u001b[0m\u001b[1m(\u001b[0m\u001b[1;36m0.03552693692881352\u001b[0m\u001b[1m)\u001b[0m"
      ]
     },
     "execution_count": 38,
     "metadata": {},
     "output_type": "execute_result"
    }
   ],
   "source": [
    "vol_cylinders.isna().sum() / len(e_copy)"
   ]
  },
  {
   "cell_type": "code",
   "execution_count": 39,
   "id": "3dfa9883-e806-4175-a0b1-d81f4bc4c259",
   "metadata": {},
   "outputs": [],
   "source": [
    "def _extract_hp(engine_str):\n",
    "    if pd.isna(engine_str):\n",
    "        return None\n",
    "    \n",
    "    engine_str = str(engine_str)\n",
    "    \n",
    "    pattern = r'(\\d+\\.?\\d*)\\s*HP'\n",
    "    \n",
    "    match = re.search(pattern, engine_str, re.IGNORECASE)\n",
    "    if match:\n",
    "        for group in match.groups():\n",
    "            if group is not None:\n",
    "                return float(group)\n",
    "    \n",
    "    return None"
   ]
  },
  {
   "cell_type": "code",
   "execution_count": 40,
   "id": "ad350df8-8047-4513-8da3-f967ed430566",
   "metadata": {},
   "outputs": [],
   "source": [
    "hp = e_copy.apply(_extract_hp)"
   ]
  },
  {
   "cell_type": "code",
   "execution_count": 41,
   "id": "f5caf320-80ce-46fc-b46a-b3271bdbe866",
   "metadata": {},
   "outputs": [
    {
     "data": {
      "text/html": [
       "<pre style=\"white-space:pre;overflow-x:auto;line-height:normal;font-family:Menlo,'DejaVu Sans Mono',consolas,'Courier New',monospace\"></pre>\n"
      ],
      "text/plain": []
     },
     "metadata": {},
     "output_type": "display_data"
    },
    {
     "data": {
      "text/plain": [
       "\u001b[1;35mnp.float64\u001b[0m\u001b[1m(\u001b[0m\u001b[1;36m0.1764094349530321\u001b[0m\u001b[1m)\u001b[0m"
      ]
     },
     "execution_count": 41,
     "metadata": {},
     "output_type": "execute_result"
    }
   ],
   "source": [
    "hp.isna().sum() / len(e_copy)"
   ]
  },
  {
   "cell_type": "code",
   "execution_count": 42,
   "id": "aa5e860c-14f7-41f7-bef4-926e98373808",
   "metadata": {},
   "outputs": [],
   "source": [
    "def remove_extracted_features(engine_str):\n",
    "    if pd.isna(engine_str):\n",
    "        return \"\"\n",
    "    \n",
    "    engine_str = str(engine_str)\n",
    "    \n",
    "    patterns_to_remove = [\n",
    "        r'\\d+\\.?\\d*\\s*HP',\n",
    "        r'\\d+\\.?\\d*\\s*hp', # Horsepower (250 HP, 200HP)\n",
    "        r'\\d+\\.?\\d*\\s*L',               # Engine volume (2.0L, 3.5 L)\n",
    "        r'\\b\\d+\\s*Cylinder',            # X Cylinder\n",
    "        r'Flat\\s*\\d+\\s*Cylinder',       # Flat X Cylinder\n",
    "        r'V\\d+\\s*Cylinder',             # V6 Cylinder\n",
    "        r'I\\d+',                        # I4, I6\n",
    "        r'V\\d+',                        # V6, V8\n",
    "        r'\\d+V',                        # 16V, 24V\n",
    "    ]\n",
    "    \n",
    "    cleaned = engine_str\n",
    "    for pattern in patterns_to_remove:\n",
    "        cleaned = re.sub(pattern, '', cleaned, flags=re.IGNORECASE)\n",
    "    \n",
    "    # Clean up extra spaces and punctuation\n",
    "    cleaned = re.sub(r'\\s+', ' ', cleaned)  # Multiple spaces to single space\n",
    "    cleaned = re.sub(r'^\\s+|\\s+$', '', cleaned)  # Trim spaces\n",
    "    cleaned = re.sub(r'\\s*,\\s*', ', ', cleaned)  # Clean commas\n",
    "    cleaned = re.sub(r'^[,\\s-]+|[,\\s-]+$', '', cleaned)  # Remove leading/trailing punctuation\n",
    "    \n",
    "    return cleaned if cleaned else \"Only basic features\""
   ]
  },
  {
   "cell_type": "code",
   "execution_count": 43,
   "id": "255d374d-2385-4746-bccc-fd4f77f49ce1",
   "metadata": {},
   "outputs": [],
   "source": [
    "eng = e_copy\n",
    "e_copy = e_copy.apply(remove_extracted_features)"
   ]
  },
  {
   "cell_type": "code",
   "execution_count": 45,
   "id": "bb5c607a-3fbc-48b1-b62d-f62cec355312",
   "metadata": {},
   "outputs": [
    {
     "name": "stdout",
     "output_type": "stream",
     "text": [
      "Engine Gasoline Fuel\n",
      "Straight Engine Gasoline Fuel\n",
      "Flat Engine Gasoline Fuel\n",
      "Engine Flex Fuel Capability\n",
      "Electric Motor Electric Fuel System\n",
      "GDI DOHC Turbo\n",
      "GDI DOHC\n",
      "Engine Diesel Fuel\n",
      "GDI DOHC Twin Turbo\n",
      "iter\n",
      "MPFI DOHC\n",
      "PDI DOHC Twin Turbo\n",
      "iter Turbo\n",
      "Engine Gasoline/Mild Electric Hybrid\n",
      "GDI OHV\n",
      "Straight Engine Gasoline/Mild Electric Hybrid\n",
      "MPFI OHV\n",
      "Engine Gas/Electric Hybrid\n",
      "PDI DOHC\n",
      "–\n",
      "iter TFSI\n",
      "iter Twin Turbo\n",
      "Straight Engine Diesel Fuel\n",
      "Electric\n",
      "Engine Plug-In Electric/Gas\n",
      "Only basic features\n",
      "PDI DOHC Turbo\n",
      "H6 GDI DOHC Twin Turbo\n",
      "DDI OHV Turbo Diesel\n",
      "GDI DOHC Supercharged\n",
      "H6 GDI DOHC\n",
      "iter DOHC\n",
      "GDI SOHC\n",
      "iter DOHC Twin Turbo\n",
      "MPFI DOHC Flexible Fuel\n",
      "iter DOHC Turbo\n",
      "GDI SOHC Turbo\n",
      "W12 PDI DOHC Twin Turbo\n",
      "Dual Motor - Standard\n",
      "iter SOHC\n",
      "MPFI DOHC Twin Turbo\n",
      "GDI DOHC Turbo Hybrid\n",
      "Straight Engine Plug-In Electric/Gas\n",
      "PDI DOHC Twin Turbo Hybrid\n",
      "MPFI DOHC Hybrid\n",
      "PDI DOHC Hybrid\n",
      "Rotary engine Gasoline Fuel\n",
      "iter GTDI\n",
      "MPFI SOHC Flexible Fuel\n",
      "H4 GDI DOHC Turbo\n",
      "MPFI SOHC\n",
      "DDI DOHC Turbo Diesel\n",
      "GDI DOHC Turbo Flexible Fuel\n",
      "H4 GDI DOHC\n",
      "H6 MPFI DOHC\n",
      "GDI OHV Supercharged\n",
      "Intercooled Turbo Premium Unleaded I-4 /122\n",
      "Standard Range Battery\n",
      "iter TSI\n",
      "Intercooled Turbo Diesel V-8 /406\n",
      "iter DOHC T/C\n",
      "GDI DOHC Hybrid\n",
      "H4 MPFI DOHC\n",
      "W16 GDI DOHC Twin Turbo\n",
      "iter SC ULEV\n",
      "iter SC DOHC\n",
      "MPFI OHV Flexible Fuel\n",
      "iter SIDI DOHC\n",
      "SOHC I-VTEC\n",
      "Electric Motor Hydrogen Fuel\n",
      "Dual AC Electric Motors\n",
      "iter Supercharged\n",
      "DDI OHV Twin Turbo Diesel\n",
      "MPFI DOHC Supercharged\n",
      "Engine\n",
      "MPFI DOHC Turbo\n",
      "GDI DOHC Flexible Fuel\n",
      "111.2Ah / FR 70kW / RR 160kW ()\n",
      "Battery Electric\n",
      "120 AH\n",
      "iter GDI DOHC Twin Turbo\n"
     ]
    }
   ],
   "source": [
    "remaining = e_copy.value_counts().index.tolist()\n",
    "for e in remaining:\n",
    "    print(e)"
   ]
  },
  {
   "cell_type": "code",
   "execution_count": 49,
   "id": "6d0e7a55-1ae7-426f-9931-67e9f72a3a2e",
   "metadata": {},
   "outputs": [],
   "source": [
    "\n",
    "def remove_fuel_types(engine_str):\n",
    "    \"\"\"\n",
    "    Remove all fuel type keywords from engine strings\n",
    "    \"\"\"\n",
    "    if pd.isna(engine_str):\n",
    "        return \"\"\n",
    "    \n",
    "    engine_str = str(engine_str)\n",
    "    \n",
    "    # Fuel type patterns to remove (case insensitive)\n",
    "    fuel_patterns = [\n",
    "        r'Fuel',\n",
    "        r'Engine',\n",
    "        r'Gasoline',\n",
    "        r'Hybrid',\n",
    "        r'E85\\s*Flex\\s*Fuel', \n",
    "        r'Flex\\s*Fuel',\n",
    "        r'Diesel',\n",
    "        r'Plug-In\\s*Hybrid',\n",
    "        r'Plug\\s*In\\s*Hybrid',\n",
    "        r'not supported',\n",
    "        r'–',  # The dash character you have\n",
    "    ]\n",
    "    \n",
    "    # Combine patterns with OR\n",
    "    combined_pattern = '|'.join(fuel_patterns)\n",
    "    \n",
    "    # Remove fuel types\n",
    "    cleaned = re.sub(combined_pattern, '', engine_str, flags=re.IGNORECASE)\n",
    "    \n",
    "    # Clean up extra whitespace and punctuation\n",
    "    cleaned = re.sub(r'\\s+', ' ', cleaned)  # Multiple spaces to single space\n",
    "    cleaned = re.sub(r'^\\s+|\\s+$', '', cleaned)  # Trim spaces\n",
    "    cleaned = re.sub(r'\\s*,\\s*', ', ', cleaned)  # Clean commas\n",
    "    cleaned = re.sub(r'^[,\\s-]+|[,\\s-]+$', '', cleaned)  # Remove leading/trailing punctuation\n",
    "    \n",
    "    return cleaned if cleaned else \"No engine specs\""
   ]
  },
  {
   "cell_type": "code",
   "execution_count": 50,
   "id": "9b31326d-2598-4484-8459-60cf97fde184",
   "metadata": {},
   "outputs": [
    {
     "data": {
      "text/html": [
       "<pre style=\"white-space:pre;overflow-x:auto;line-height:normal;font-family:Menlo,'DejaVu Sans Mono',consolas,'Courier New',monospace\"></pre>\n"
      ],
      "text/plain": []
     },
     "metadata": {},
     "output_type": "display_data"
    },
    {
     "data": {
      "text/plain": [
       "\n",
       "engine\n",
       "No engine specs                    \u001b[1;36m125592\u001b[0m\n",
       "Straight                             \u001b[1;36m9778\u001b[0m\n",
       "Flat                                 \u001b[1;36m5344\u001b[0m\n",
       "Capability                           \u001b[1;36m5168\u001b[0m\n",
       "Electric Motor Electric System       \u001b[1;36m4949\u001b[0m\n",
       "                                    \u001b[33m...\u001b[0m  \n",
       "GDI DOHC Flexible                       \u001b[1;36m8\u001b[0m\n",
       "\u001b[1;36m111.\u001b[0m2Ah \u001b[35m/\u001b[0m FR 70kW \u001b[35m/\u001b[0m RR 160kW \u001b[1m(\u001b[0m\u001b[1m)\u001b[0m         \u001b[1;36m8\u001b[0m\n",
       "Battery Electric                        \u001b[1;36m8\u001b[0m\n",
       "\u001b[1;36m120\u001b[0m AH                                  \u001b[1;36m4\u001b[0m\n",
       "iter GDI DOHC Twin Turbo                \u001b[1;36m4\u001b[0m\n",
       "Name: count, Length: \u001b[1;36m72\u001b[0m, dtype: int64"
      ]
     },
     "execution_count": 50,
     "metadata": {},
     "output_type": "execute_result"
    }
   ],
   "source": [
    "e_copy = e_copy.apply(remove_fuel_types)\n",
    "e_copy.value_counts()"
   ]
  },
  {
   "cell_type": "code",
   "execution_count": 51,
   "id": "62e2eb3f-17f0-40bf-8f52-d92fa9a2f34d",
   "metadata": {},
   "outputs": [
    {
     "name": "stdout",
     "output_type": "stream",
     "text": [
      "No engine specs\n",
      "Straight\n",
      "Flat\n",
      "Capability\n",
      "Electric Motor Electric System\n",
      "GDI DOHC Turbo\n",
      "GDI DOHC\n",
      "GDI DOHC Twin Turbo\n",
      "iter\n",
      "MPFI DOHC\n",
      "PDI DOHC Twin Turbo\n",
      "iter Turbo\n",
      "/Mild Electric\n",
      "GDI OHV\n",
      "Straight /Mild Electric\n",
      "MPFI OHV\n",
      "Gas/Electric\n",
      "PDI DOHC\n",
      "iter TFSI\n",
      "iter Twin Turbo\n",
      "Electric\n",
      "Plug-In Electric/Gas\n",
      "Only basic features\n",
      "PDI DOHC Turbo\n",
      "H6 GDI DOHC Twin Turbo\n",
      "DDI OHV Turbo\n",
      "GDI DOHC Supercharged\n",
      "H6 GDI DOHC\n",
      "iter DOHC\n",
      "GDI SOHC\n",
      "iter DOHC Twin Turbo\n",
      "MPFI DOHC Flexible\n",
      "iter DOHC Turbo\n",
      "GDI SOHC Turbo\n",
      "W12 PDI DOHC Twin Turbo\n",
      "Dual Motor - Standard\n",
      "iter SOHC\n",
      "MPFI DOHC Twin Turbo\n",
      "Straight Plug-In Electric/Gas\n",
      "Rotary\n",
      "iter GTDI\n",
      "MPFI SOHC Flexible\n",
      "H4 GDI DOHC Turbo\n",
      "MPFI SOHC\n",
      "H4 GDI DOHC\n",
      "DDI DOHC Turbo\n",
      "GDI DOHC Turbo Flexible\n",
      "H6 MPFI DOHC\n",
      "GDI OHV Supercharged\n",
      "Intercooled Turbo Premium Unleaded I-4 /122\n",
      "Standard Range Battery\n",
      "iter TSI\n",
      "Intercooled Turbo V-8 /406\n",
      "iter DOHC T/C\n",
      "H4 MPFI DOHC\n",
      "W16 GDI DOHC Twin Turbo\n",
      "iter SC ULEV\n",
      "iter SC DOHC\n",
      "MPFI OHV Flexible\n",
      "iter SIDI DOHC\n",
      "Electric Motor Hydrogen\n",
      "SOHC I-VTEC\n",
      "Dual AC Electric Motors\n",
      "iter Supercharged\n",
      "DDI OHV Twin Turbo\n",
      "MPFI DOHC Supercharged\n",
      "MPFI DOHC Turbo\n",
      "GDI DOHC Flexible\n",
      "111.2Ah / FR 70kW / RR 160kW ()\n",
      "Battery Electric\n",
      "120 AH\n",
      "iter GDI DOHC Twin Turbo\n"
     ]
    }
   ],
   "source": [
    "remaining = e_copy.value_counts().index.tolist()\n",
    "for e in remaining:\n",
    "    print(e)"
   ]
  },
  {
   "cell_type": "code",
   "execution_count": 52,
   "id": "de3b8677-6d29-40cd-9edd-a3d8ef33f250",
   "metadata": {},
   "outputs": [],
   "source": [
    "def extract_engine_tech(engine_str):\n",
    "    if pd.isna(engine_str) or engine_str in ['No engine specs', 'Only basic features']:\n",
    "        return 'Basic'\n",
    "    \n",
    "    engine_str = str(engine_str).lower()\n",
    "    \n",
    "    features = []\n",
    "    \n",
    "    # Forced Induction\n",
    "    if any(term in engine_str for term in ['twin turbo', 'twin-turbo']):\n",
    "        features.append('Twin_Turbo')\n",
    "    elif 'turbo' in engine_str:\n",
    "        features.append('Turbo')\n",
    "    elif 'supercharged' in engine_str:\n",
    "        features.append('Supercharged')\n",
    "    \n",
    "    # Fuel Injection\n",
    "    if 'gdi' in engine_str:\n",
    "        features.append('GDI')\n",
    "    elif 'mpfi' in engine_str:\n",
    "        features.append('MPFI') \n",
    "    elif any(term in engine_str for term in ['pdi', 'tsi', 'tfsi']):\n",
    "        features.append('Direct_Injection')\n",
    "    \n",
    "    # Valve Technology\n",
    "    if 'dohc' in engine_str:\n",
    "        features.append('DOHC')\n",
    "    elif 'sohc' in engine_str:\n",
    "        features.append('SOHC')\n",
    "    elif 'ohv' in engine_str:\n",
    "        features.append('OHV')\n",
    "    \n",
    "    # Special Configurations\n",
    "    if any(term in engine_str for term in ['h4', 'h6', 'flat']):\n",
    "        features.append('Flat_Engine')\n",
    "    elif any(term in engine_str for term in ['w12', 'w16']):\n",
    "        features.append('W_Engine')\n",
    "    elif 'rotary' in engine_str:\n",
    "        features.append('Rotary')\n",
    "    \n",
    "    # Electric/Hybrid\n",
    "    if any(term in engine_str for term in ['electric motor', 'dual motor', 'battery']):\n",
    "        features.append('Electric')\n",
    "    elif 'mild electric' in engine_str:\n",
    "        features.append('Mild_Hybrid')\n",
    "    elif 'plug-in' in engine_str:\n",
    "        features.append('Plug_In_Hybrid')\n",
    "    \n",
    "    return '_'.join(features) if features else 'Basic'\n"
   ]
  },
  {
   "cell_type": "code",
   "execution_count": 55,
   "id": "e64cd7f4-eb3e-426f-9441-164228eccb03",
   "metadata": {},
   "outputs": [
    {
     "data": {
      "text/html": [
       "<pre style=\"white-space:pre;overflow-x:auto;line-height:normal;font-family:Menlo,'DejaVu Sans Mono',consolas,'Courier New',monospace\"></pre>\n"
      ],
      "text/plain": []
     },
     "metadata": {},
     "output_type": "display_data"
    },
    {
     "data": {
      "text/plain": [
       "\u001b[1;36m39\u001b[0m"
      ]
     },
     "execution_count": 55,
     "metadata": {},
     "output_type": "execute_result"
    }
   ],
   "source": [
    "eng_techs = cars['engine'].apply(extract_engine_tech)\n",
    "len(eng_techs.value_counts())"
   ]
  },
  {
   "cell_type": "code",
   "execution_count": 56,
   "id": "cc7bb2b4-ef85-402a-951b-908506975e8d",
   "metadata": {},
   "outputs": [],
   "source": [
    "def simplify_engine_tech(tech_string):\n",
    "    if not tech_string or tech_string == 'Basic':\n",
    "        return 'Basic'\n",
    "    \n",
    "    tech_lower = tech_string.lower()\n",
    "    \n",
    "    # 1. High Performance\n",
    "    if any(term in tech_lower for term in ['twin_turbo', 'supercharged', 'w_engine', 'rotary']):\n",
    "        return 'High_Performance'\n",
    "    \n",
    "    # 2. Turbocharged\n",
    "    elif 'turbo' in tech_lower and 'twin_turbo' not in tech_lower:\n",
    "        return 'Turbocharged'\n",
    "    \n",
    "    # 3. Modern Efficient\n",
    "    elif any(term in tech_lower for term in ['gdi', 'direct_injection', 'dohc']):\n",
    "        return 'Modern_Efficient'\n",
    "    \n",
    "    # 4. Electric/Hybrid\n",
    "    elif any(term in tech_lower for term in ['electric', 'mild_hybrid', 'plug_in_hybrid']):\n",
    "        return 'Electric_Hybrid'\n",
    "    \n",
    "    # 5. Traditional\n",
    "    elif any(term in tech_lower for term in ['mpfi', 'sohc', 'ohv']):\n",
    "        return 'Traditional'\n",
    "    \n",
    "    # 6. Special Configurations\n",
    "    elif any(term in tech_lower for term in ['flat_engine', 'h_engine']):\n",
    "        return 'Special_Config'\n",
    "    \n",
    "    else:\n",
    "        return 'Basic'"
   ]
  },
  {
   "cell_type": "code",
   "execution_count": 57,
   "id": "9a30ab58-9836-4532-a564-16e85f1b1f92",
   "metadata": {},
   "outputs": [
    {
     "data": {
      "text/html": [
       "<pre style=\"white-space:pre;overflow-x:auto;line-height:normal;font-family:Menlo,'DejaVu Sans Mono',consolas,'Courier New',monospace\"></pre>\n"
      ],
      "text/plain": []
     },
     "metadata": {},
     "output_type": "display_data"
    },
    {
     "data": {
      "text/plain": [
       "\n",
       "engine\n",
       "Basic               \u001b[1;36m146069\u001b[0m\n",
       "Modern_Efficient     \u001b[1;36m11142\u001b[0m\n",
       "Electric_Hybrid       \u001b[1;36m9254\u001b[0m\n",
       "Turbocharged          \u001b[1;36m7406\u001b[0m\n",
       "High_Performance      \u001b[1;36m7307\u001b[0m\n",
       "Special_Config        \u001b[1;36m5344\u001b[0m\n",
       "Traditional           \u001b[1;36m2011\u001b[0m\n",
       "Name: count, dtype: int64"
      ]
     },
     "execution_count": 57,
     "metadata": {},
     "output_type": "execute_result"
    }
   ],
   "source": [
    "eng_techs = eng_techs.apply(simplify_engine_tech)\n",
    "eng_techs.value_counts()"
   ]
  },
  {
   "cell_type": "code",
   "execution_count": 58,
   "id": "fa4c65b8-b670-40bb-b031-b2bdce9924b4",
   "metadata": {},
   "outputs": [
    {
     "data": {
      "text/html": [
       "<pre style=\"white-space:pre;overflow-x:auto;line-height:normal;font-family:Menlo,'DejaVu Sans Mono',consolas,'Courier New',monospace\"></pre>\n"
      ],
      "text/plain": []
     },
     "metadata": {},
     "output_type": "display_data"
    },
    {
     "data": {
      "text/plain": [
       "\n",
       "transmission\n",
       "A/T                                                   \u001b[1;36m49904\u001b[0m\n",
       "\u001b[1;36m8\u001b[0m-Speed A/T                                           \u001b[1;36m20645\u001b[0m\n",
       "Transmission w/Dual Shift Mode                        \u001b[1;36m19255\u001b[0m\n",
       "\u001b[1;36m6\u001b[0m-Speed A/T                                           \u001b[1;36m18044\u001b[0m\n",
       "\u001b[1;36m6\u001b[0m-Speed M/T                                           \u001b[1;36m11998\u001b[0m\n",
       "\u001b[1;36m7\u001b[0m-Speed A/T                                           \u001b[1;36m11124\u001b[0m\n",
       "Automatic                                             \u001b[1;36m10691\u001b[0m\n",
       "\u001b[1;36m8\u001b[0m-Speed Automatic                                      \u001b[1;36m8431\u001b[0m\n",
       "\u001b[1;36m10\u001b[0m-Speed A/T                                           \u001b[1;36m8044\u001b[0m\n",
       "\u001b[1;36m9\u001b[0m-Speed A/T                                            \u001b[1;36m3866\u001b[0m\n",
       "\u001b[1;36m5\u001b[0m-Speed A/T                                            \u001b[1;36m3217\u001b[0m\n",
       "\u001b[1;36m10\u001b[0m-Speed Automatic                                     \u001b[1;36m3164\u001b[0m\n",
       "\u001b[1;36m6\u001b[0m-Speed Automatic                                      \u001b[1;36m2799\u001b[0m\n",
       "\u001b[1;36m4\u001b[0m-Speed A/T                                            \u001b[1;36m2546\u001b[0m\n",
       "\u001b[1;36m5\u001b[0m-Speed M/T                                            \u001b[1;36m2409\u001b[0m\n",
       "\u001b[1;36m9\u001b[0m-Speed Automatic                                      \u001b[1;36m2325\u001b[0m\n",
       "CVT Transmission                                       \u001b[1;36m1990\u001b[0m\n",
       "\u001b[1;36m1\u001b[0m-Speed A/T                                            \u001b[1;36m1869\u001b[0m\n",
       "M/T                                                    \u001b[1;36m1179\u001b[0m\n",
       "\u001b[1;36m7\u001b[0m-Speed Automatic with Auto-Shift                      \u001b[1;36m1172\u001b[0m\n",
       "Automatic CVT                                           \u001b[1;36m829\u001b[0m\n",
       "\u001b[1;36m8\u001b[0m-Speed Automatic with Auto-Shift                       \u001b[1;36m549\u001b[0m\n",
       "\u001b[1;36m1\u001b[0m-Speed Automatic                                       \u001b[1;36m365\u001b[0m\n",
       "\u001b[1;36m7\u001b[0m-Speed M/T                                             \u001b[1;36m355\u001b[0m\n",
       "\u001b[1;36m6\u001b[0m-Speed Manual                                          \u001b[1;36m211\u001b[0m\n",
       "\u001b[1;36m7\u001b[0m-Speed Automatic                                       \u001b[1;36m178\u001b[0m\n",
       "\u001b[1;36m5\u001b[0m-Speed Automatic                                       \u001b[1;36m159\u001b[0m\n",
       "Transmission Overdrive Switch                           \u001b[1;36m156\u001b[0m\n",
       "\u001b[1;36m7\u001b[0m-Speed Manual                                          \u001b[1;36m151\u001b[0m\n",
       "\u001b[1;36m6\u001b[0m-Speed Automatic with Auto-Shift                       \u001b[1;36m111\u001b[0m\n",
       "\u001b[1;36m2\u001b[0m                                                        \u001b[1;36m91\u001b[0m\n",
       "–                                                        \u001b[1;36m87\u001b[0m\n",
       "\u001b[1;36m2\u001b[0m-Speed A/T                                              \u001b[1;36m71\u001b[0m\n",
       "Variable                                                 \u001b[1;36m66\u001b[0m\n",
       "F                                                        \u001b[1;36m65\u001b[0m\n",
       "\u001b[1;36m4\u001b[0m-Speed Automatic                                        \u001b[1;36m48\u001b[0m\n",
       "\u001b[1;36m10\u001b[0m-Speed Automatic with Overdrive                        \u001b[1;36m40\u001b[0m\n",
       "\u001b[1;36m6\u001b[0m Speed Mt                                               \u001b[1;36m37\u001b[0m\n",
       "\u001b[1;36m9\u001b[0m-Speed Automatic with Auto-Shift                        \u001b[1;36m33\u001b[0m\n",
       "\u001b[1;36m6\u001b[0m-Speed Electronically Controlled Automatic with O       \u001b[1;36m31\u001b[0m\n",
       "\u001b[1;36m7\u001b[0m-Speed                                                  \u001b[1;36m29\u001b[0m\n",
       "\u001b[1;36m8\u001b[0m-Speed Manual                                           \u001b[1;36m28\u001b[0m\n",
       "\u001b[1;36m6\u001b[0m-Speed                                                  \u001b[1;36m27\u001b[0m\n",
       "Manual                                                   \u001b[1;36m27\u001b[0m\n",
       "\u001b[1;36m2\u001b[0m-Speed Automatic                                        \u001b[1;36m22\u001b[0m\n",
       "\u001b[1;36m6\u001b[0m Speed At/Mt                                            \u001b[1;36m20\u001b[0m\n",
       "\u001b[1;36m7\u001b[0m-Speed DCT Automatic                                    \u001b[1;36m18\u001b[0m\n",
       "Single-Speed Fixed Gear                                  \u001b[1;36m16\u001b[0m\n",
       "CVT-F                                                    \u001b[1;36m15\u001b[0m\n",
       "\u001b[1;36m8\u001b[0m-SPEED AT                                               \u001b[1;36m13\u001b[0m\n",
       "\u001b[1;36m8\u001b[0m-SPEED A/T                                               \u001b[1;36m7\u001b[0m\n",
       "SCHEDULED FOR OR IN PRODUCTION                            \u001b[1;36m6\u001b[0m\n",
       "Name: count, dtype: int64"
      ]
     },
     "execution_count": 58,
     "metadata": {},
     "output_type": "execute_result"
    }
   ],
   "source": [
    "cars['transmission'].value_counts()"
   ]
  },
  {
   "cell_type": "code",
   "execution_count": 64,
   "id": "c34caa33-f6b2-421c-b643-110c750fd679",
   "metadata": {},
   "outputs": [
    {
     "data": {
      "text/html": [
       "<pre style=\"white-space:pre;overflow-x:auto;line-height:normal;font-family:Menlo,'DejaVu Sans Mono',consolas,'Courier New',monospace\"></pre>\n"
      ],
      "text/plain": []
     },
     "metadata": {},
     "output_type": "display_data"
    },
    {
     "data": {
      "text/plain": [
       "\n",
       "transmission\n",
       "Transmission w/Dual Shift Mode    \u001b[1;36m19255\u001b[0m\n",
       "Name: count, dtype: int64"
      ]
     },
     "execution_count": 64,
     "metadata": {},
     "output_type": "execute_result"
    }
   ],
   "source": [
    "tr = cars['transmission']\n",
    "tr[tr.str.lower().str.contains('dual')].value_counts()"
   ]
  },
  {
   "cell_type": "code",
   "execution_count": 66,
   "id": "f7fd7bea-849a-4c58-9ea2-21ce5323746e",
   "metadata": {},
   "outputs": [],
   "source": [
    "def extract_transmission_tech(trans):\n",
    "    if pd.isna(trans):\n",
    "        return 'Unknown'\n",
    "    \n",
    "    trans = str(trans).lower()\n",
    "    \n",
    "    # Premium performance transmissions\n",
    "    if any(term in trans for term in ['dct', 'dual-clutch']):\n",
    "        return 'Dual_Clutch'\n",
    "    \n",
    "    # High-gear modern automatics (8+ speeds)\n",
    "    elif any(term in trans for term in ['8-speed', '9-speed', '10-speed']):\n",
    "        return 'High_Gear_Automatic'\n",
    "    \n",
    "    # CVT transmissions\n",
    "    elif 'cvt' in trans:\n",
    "        return 'CVT'\n",
    "    \n",
    "    # Manual transmissions\n",
    "    elif any(term in trans for term in ['m/t', 'manual']):\n",
    "        return 'Manual'\n",
    "    \n",
    "    # Basic automatics with manual mode\n",
    "    elif any(term in trans for term in ['dual shift', 'auto-shift']):\n",
    "        return 'Automatic_Manual_Mode'\n",
    "    \n",
    "    # Standard automatics\n",
    "    elif any(term in trans for term in ['automatic', 'a/t']):\n",
    "        return 'Standard_Automatic'\n",
    "    \n",
    "    # Single-speed (electric vehicles)\n",
    "    elif any(term in trans for term in ['1-speed', 'single-speed']):\n",
    "        return 'Electric_Single_Speed'\n",
    "    \n",
    "    else:\n",
    "        return 'Other'"
   ]
  },
  {
   "cell_type": "code",
   "execution_count": 71,
   "id": "c9d73e5c-7194-4f4b-b649-f961b575f600",
   "metadata": {},
   "outputs": [],
   "source": [
    "\n",
    "def gear_count_category(trans):\n",
    "    if pd.isna(trans):\n",
    "        return 'Unknown'\n",
    "    \n",
    "    trans = str(trans).lower()\n",
    "    \n",
    "    if any(term in trans for term in ['10-speed']):\n",
    "        return '10_Speed'\n",
    "    elif any(term in trans for term in ['8-speed', '9-speed']):\n",
    "        return '8-9_Speed'\n",
    "    elif any(term in trans for term in ['6-speed', '7-speed']):\n",
    "        return '6-7_Speed'\n",
    "    elif any(term in trans for term in ['4-speed', '5-speed']):\n",
    "        return '4-5_Speed'\n",
    "    elif any(term in trans for term in ['1-speed', 'single-speed']):\n",
    "        return '1_Speed_EV'\n",
    "    elif 'cvt' in trans:\n",
    "        return 'CVT_Infinite'\n",
    "    else:\n",
    "        return 'Unknown_Gears'"
   ]
  },
  {
   "cell_type": "code",
   "execution_count": 72,
   "id": "66afdca2-3433-44fc-903c-6e3de3f1d6c3",
   "metadata": {},
   "outputs": [],
   "source": [
    "def transmission_modernity(trans):\n",
    "    if pd.isna(trans):\n",
    "        return 0\n",
    "    \n",
    "    trans = str(trans).lower()\n",
    "    score = 0\n",
    "    \n",
    "    # Premium features\n",
    "    if any(term in trans for term in ['dct', '10-speed']):\n",
    "        score += 3\n",
    "    elif any(term in trans for term in ['8-speed', '9-speed']):\n",
    "        score += 2\n",
    "    elif any(term in trans for term in ['dual shift', 'auto-shift']):\n",
    "        score += 1\n",
    "    \n",
    "    # Modern efficient transmissions\n",
    "    if 'cvt' in trans:\n",
    "        score += 2\n",
    "    \n",
    "    # Electric vehicle transmission\n",
    "    if any(term in trans for term in ['1-speed', 'single-speed']):\n",
    "        score += 2\n",
    "    \n",
    "    # Older/less advanced\n",
    "    if any(term in trans for term in ['4-speed', '5-speed']):\n",
    "        score -= 1\n",
    "    \n",
    "    return score"
   ]
  },
  {
   "cell_type": "code",
   "execution_count": 73,
   "id": "2a16e28f-725e-465c-9e2a-5bfacf9aef93",
   "metadata": {},
   "outputs": [
    {
     "data": {
      "text/html": [
       "<pre style=\"white-space:pre;overflow-x:auto;line-height:normal;font-family:Menlo,'DejaVu Sans Mono',consolas,'Courier New',monospace\"></pre>\n"
      ],
      "text/plain": []
     },
     "metadata": {},
     "output_type": "display_data"
    },
    {
     "data": {
      "text/plain": [
       "\n",
       "transmission\n",
       "Standard_Automatic       \u001b[1;36m101068\u001b[0m\n",
       "High_Gear_Automatic       \u001b[1;36m47145\u001b[0m\n",
       "Automatic_Manual_Mode     \u001b[1;36m20538\u001b[0m\n",
       "Manual                    \u001b[1;36m16330\u001b[0m\n",
       "CVT                        \u001b[1;36m2834\u001b[0m\n",
       "Other                       \u001b[1;36m584\u001b[0m\n",
       "Dual_Clutch                  \u001b[1;36m18\u001b[0m\n",
       "Electric_Single_Speed        \u001b[1;36m16\u001b[0m\n",
       "Name: count, dtype: int64"
      ]
     },
     "execution_count": 73,
     "metadata": {},
     "output_type": "execute_result"
    }
   ],
   "source": [
    "trans_tech = cars['transmission'].apply(extract_transmission_tech)\n",
    "trans_tech.value_counts()"
   ]
  },
  {
   "cell_type": "code",
   "execution_count": 74,
   "id": "9e804528-209f-4be2-802d-5bace66024df",
   "metadata": {},
   "outputs": [
    {
     "data": {
      "text/html": [
       "<pre style=\"white-space:pre;overflow-x:auto;line-height:normal;font-family:Menlo,'DejaVu Sans Mono',consolas,'Courier New',monospace\"></pre>\n"
      ],
      "text/plain": []
     },
     "metadata": {},
     "output_type": "display_data"
    },
    {
     "data": {
      "text/plain": [
       "\n",
       "transmission\n",
       "Unknown_Gears    \u001b[1;36m81677\u001b[0m\n",
       "\u001b[1;36m6\u001b[0m-7_Speed        \u001b[1;36m46248\u001b[0m\n",
       "\u001b[1;36m8\u001b[0m-9_Speed        \u001b[1;36m35897\u001b[0m\n",
       "10_Speed         \u001b[1;36m11248\u001b[0m\n",
       "\u001b[1;36m4\u001b[0m-5_Speed         \u001b[1;36m8379\u001b[0m\n",
       "CVT_Infinite      \u001b[1;36m2834\u001b[0m\n",
       "1_Speed_EV        \u001b[1;36m2250\u001b[0m\n",
       "Name: count, dtype: int64"
      ]
     },
     "execution_count": 74,
     "metadata": {},
     "output_type": "execute_result"
    }
   ],
   "source": [
    "gear_count_cat = cars['transmission'].apply(gear_count_category)\n",
    "gear_count_cat.value_counts()"
   ]
  },
  {
   "cell_type": "code",
   "execution_count": 3,
   "id": "4f2b06be-c8ee-415d-846c-ac4ef13800da",
   "metadata": {},
   "outputs": [
    {
     "data": {
      "text/html": [
       "<pre style=\"white-space:pre;overflow-x:auto;line-height:normal;font-family:Menlo,'DejaVu Sans Mono',consolas,'Courier New',monospace\"></pre>\n"
      ],
      "text/plain": []
     },
     "metadata": {},
     "output_type": "display_data"
    },
    {
     "data": {
      "text/plain": [
       "\n",
       "brand\n",
       "Ford             \u001b[1;36m23088\u001b[0m\n",
       "Mercedes-Benz    \u001b[1;36m19172\u001b[0m\n",
       "BMW              \u001b[1;36m17028\u001b[0m\n",
       "Chevrolet        \u001b[1;36m16335\u001b[0m\n",
       "Audi             \u001b[1;36m10887\u001b[0m\n",
       "Porsche          \u001b[1;36m10612\u001b[0m\n",
       "Land              \u001b[1;36m9525\u001b[0m\n",
       "Toyota            \u001b[1;36m8850\u001b[0m\n",
       "Lexus             \u001b[1;36m8643\u001b[0m\n",
       "Jeep              \u001b[1;36m6474\u001b[0m\n",
       "Cadillac          \u001b[1;36m4674\u001b[0m\n",
       "RAM               \u001b[1;36m4249\u001b[0m\n",
       "Nissan            \u001b[1;36m3930\u001b[0m\n",
       "Tesla             \u001b[1;36m3738\u001b[0m\n",
       "INFINITI          \u001b[1;36m3276\u001b[0m\n",
       "GMC               \u001b[1;36m3215\u001b[0m\n",
       "Dodge             \u001b[1;36m3133\u001b[0m\n",
       "Mazda             \u001b[1;36m2719\u001b[0m\n",
       "Kia               \u001b[1;36m2497\u001b[0m\n",
       "Lincoln           \u001b[1;36m2423\u001b[0m\n",
       "Subaru            \u001b[1;36m2381\u001b[0m\n",
       "Acura             \u001b[1;36m2282\u001b[0m\n",
       "Honda             \u001b[1;36m2101\u001b[0m\n",
       "Hyundai           \u001b[1;36m2045\u001b[0m\n",
       "Volkswagen        \u001b[1;36m1765\u001b[0m\n",
       "Jaguar            \u001b[1;36m1319\u001b[0m\n",
       "Bentley           \u001b[1;36m1155\u001b[0m\n",
       "MINI              \u001b[1;36m1064\u001b[0m\n",
       "Genesis            \u001b[1;36m969\u001b[0m\n",
       "Buick              \u001b[1;36m940\u001b[0m\n",
       "Maserati           \u001b[1;36m939\u001b[0m\n",
       "Lamborghini        \u001b[1;36m809\u001b[0m\n",
       "Chrysler           \u001b[1;36m727\u001b[0m\n",
       "Volvo              \u001b[1;36m723\u001b[0m\n",
       "Alfa               \u001b[1;36m682\u001b[0m\n",
       "Rivian             \u001b[1;36m590\u001b[0m\n",
       "Rolls-Royce        \u001b[1;36m561\u001b[0m\n",
       "Mitsubishi         \u001b[1;36m551\u001b[0m\n",
       "Pontiac            \u001b[1;36m538\u001b[0m\n",
       "Hummer             \u001b[1;36m520\u001b[0m\n",
       "Ferrari            \u001b[1;36m359\u001b[0m\n",
       "McLaren            \u001b[1;36m243\u001b[0m\n",
       "Aston              \u001b[1;36m238\u001b[0m\n",
       "Saturn             \u001b[1;36m148\u001b[0m\n",
       "Scion              \u001b[1;36m120\u001b[0m\n",
       "Lucid               \u001b[1;36m69\u001b[0m\n",
       "Mercury             \u001b[1;36m57\u001b[0m\n",
       "Lotus               \u001b[1;36m52\u001b[0m\n",
       "FIAT                \u001b[1;36m44\u001b[0m\n",
       "Saab                \u001b[1;36m22\u001b[0m\n",
       "Karma               \u001b[1;36m17\u001b[0m\n",
       "Suzuki               \u001b[1;36m8\u001b[0m\n",
       "Plymouth             \u001b[1;36m7\u001b[0m\n",
       "Polestar             \u001b[1;36m7\u001b[0m\n",
       "Bugatti              \u001b[1;36m7\u001b[0m\n",
       "smart                \u001b[1;36m3\u001b[0m\n",
       "Maybach              \u001b[1;36m3\u001b[0m\n",
       "Name: count, dtype: int64"
      ]
     },
     "execution_count": 3,
     "metadata": {},
     "output_type": "execute_result"
    }
   ],
   "source": [
    "cars['brand'].value_counts()"
   ]
  },
  {
   "cell_type": "code",
   "execution_count": 35,
   "id": "9901e288-a322-4e44-8be7-e230b233688e",
   "metadata": {},
   "outputs": [],
   "source": [
    "price_by_brand_model = cars.groupby(['brand', 'model'])['price'].mean().astype(int).reset_index()"
   ]
  },
  {
   "cell_type": "code",
   "execution_count": 53,
   "id": "2f9e3731-c91c-45a1-b125-413796f2964f",
   "metadata": {},
   "outputs": [],
   "source": [
    "min_price = cars['price'].min() - 1\n",
    "max_price = cars['price'].max() + 1\n",
    "bins = np.linspace(min_price, max_price, 100).astype(int)"
   ]
  },
  {
   "cell_type": "code",
   "execution_count": 57,
   "id": "ebfd9b17-7bda-4af4-a868-eacb1bccd57e",
   "metadata": {},
   "outputs": [],
   "source": [
    "price_by_brand_model['score'] = pd.cut(price_by_brand_model['price'], bins=bins, labels=False).astype(int)"
   ]
  },
  {
   "cell_type": "code",
   "execution_count": 89,
   "id": "f7b6d2a1-d5e8-41e6-a497-265194215c1f",
   "metadata": {},
   "outputs": [],
   "source": [
    "def _calculate_premium_score(df: pd.DataFrame) -> pd.DataFrame:\n",
    "    bins = np.linspace(df['price'].min() - 1, df['price'].max() + 1, 100).astype(int)\n",
    "    \n",
    "    grouped = (\n",
    "        df.groupby(['brand', 'model'])['price']\n",
    "        .mean()\n",
    "        .pipe(lambda x: pd.cut(x, bins=bins, labels=False))\n",
    "        .reset_index(name='premium_score')\n",
    "    )\n",
    "    \n",
    "    return df.merge(grouped)"
   ]
  },
  {
   "cell_type": "code",
   "execution_count": 90,
   "id": "ad1a28d1-224e-478e-a9f0-834b55e01ae0",
   "metadata": {},
   "outputs": [
    {
     "data": {
      "text/html": [
       "<pre style=\"white-space:pre;overflow-x:auto;line-height:normal;font-family:Menlo,'DejaVu Sans Mono',consolas,'Courier New',monospace\"></pre>\n"
      ],
      "text/plain": []
     },
     "metadata": {},
     "output_type": "display_data"
    },
    {
     "data": {
      "text/plain": [
       "\n",
       "\u001b[1;36m0\u001b[0m    \u001b[1;36m0\u001b[0m\n",
       "\u001b[1;36m1\u001b[0m    \u001b[1;36m0\u001b[0m\n",
       "\u001b[1;36m2\u001b[0m    \u001b[1;36m0\u001b[0m\n",
       "\u001b[1;36m3\u001b[0m    \u001b[1;36m0\u001b[0m\n",
       "\u001b[1;36m4\u001b[0m    \u001b[1;36m0\u001b[0m\n",
       "Name: price, dtype: int64"
      ]
     },
     "execution_count": 90,
     "metadata": {},
     "output_type": "execute_result"
    }
   ],
   "source": [
    "score = _calculate_primium_score(cars)\n",
    "score.head()"
   ]
  },
  {
   "cell_type": "code",
   "execution_count": 88,
   "id": "6a3a87cd-d73b-48bf-aaa8-df23baaae55d",
   "metadata": {},
   "outputs": [
    {
     "data": {
      "text/html": [
       "<pre style=\"white-space:pre;overflow-x:auto;line-height:normal;font-family:Menlo,'DejaVu Sans Mono',consolas,'Courier New',monospace\"></pre>\n"
      ],
      "text/plain": []
     },
     "metadata": {},
     "output_type": "display_data"
    },
    {
     "data": {
      "text/html": [
       "<div>\n",
       "<style scoped>\n",
       "    .dataframe tbody tr th:only-of-type {\n",
       "        vertical-align: middle;\n",
       "    }\n",
       "\n",
       "    .dataframe tbody tr th {\n",
       "        vertical-align: top;\n",
       "    }\n",
       "\n",
       "    .dataframe thead th {\n",
       "        text-align: right;\n",
       "    }\n",
       "</style>\n",
       "<table border=\"1\" class=\"dataframe\">\n",
       "  <thead>\n",
       "    <tr style=\"text-align: right;\">\n",
       "      <th></th>\n",
       "      <th>id</th>\n",
       "      <th>brand</th>\n",
       "      <th>model</th>\n",
       "      <th>model_year</th>\n",
       "      <th>milage</th>\n",
       "      <th>fuel_type</th>\n",
       "      <th>engine</th>\n",
       "      <th>transmission</th>\n",
       "      <th>ext_col</th>\n",
       "      <th>int_col</th>\n",
       "      <th>accident</th>\n",
       "      <th>clean_title</th>\n",
       "      <th>price</th>\n",
       "    </tr>\n",
       "  </thead>\n",
       "  <tbody>\n",
       "    <tr>\n",
       "      <th>0</th>\n",
       "      <td>0</td>\n",
       "      <td>MINI</td>\n",
       "      <td>Cooper S Base</td>\n",
       "      <td>2007</td>\n",
       "      <td>213000</td>\n",
       "      <td>Gasoline</td>\n",
       "      <td>172.0HP 1.6L 4 Cylinder Engine Gasoline Fuel</td>\n",
       "      <td>A/T</td>\n",
       "      <td>Yellow</td>\n",
       "      <td>Gray</td>\n",
       "      <td>None reported</td>\n",
       "      <td>Yes</td>\n",
       "      <td>4200</td>\n",
       "    </tr>\n",
       "    <tr>\n",
       "      <th>1</th>\n",
       "      <td>1</td>\n",
       "      <td>Lincoln</td>\n",
       "      <td>LS V8</td>\n",
       "      <td>2002</td>\n",
       "      <td>143250</td>\n",
       "      <td>Gasoline</td>\n",
       "      <td>252.0HP 3.9L 8 Cylinder Engine Gasoline Fuel</td>\n",
       "      <td>A/T</td>\n",
       "      <td>Silver</td>\n",
       "      <td>Beige</td>\n",
       "      <td>At least 1 accident or damage reported</td>\n",
       "      <td>Yes</td>\n",
       "      <td>4999</td>\n",
       "    </tr>\n",
       "    <tr>\n",
       "      <th>2</th>\n",
       "      <td>2</td>\n",
       "      <td>Chevrolet</td>\n",
       "      <td>Silverado 2500 LT</td>\n",
       "      <td>2002</td>\n",
       "      <td>136731</td>\n",
       "      <td>E85 Flex Fuel</td>\n",
       "      <td>320.0HP 5.3L 8 Cylinder Engine Flex Fuel Capab...</td>\n",
       "      <td>A/T</td>\n",
       "      <td>Blue</td>\n",
       "      <td>Gray</td>\n",
       "      <td>None reported</td>\n",
       "      <td>Yes</td>\n",
       "      <td>13900</td>\n",
       "    </tr>\n",
       "    <tr>\n",
       "      <th>3</th>\n",
       "      <td>3</td>\n",
       "      <td>Genesis</td>\n",
       "      <td>G90 5.0 Ultimate</td>\n",
       "      <td>2017</td>\n",
       "      <td>19500</td>\n",
       "      <td>Gasoline</td>\n",
       "      <td>420.0HP 5.0L 8 Cylinder Engine Gasoline Fuel</td>\n",
       "      <td>Transmission w/Dual Shift Mode</td>\n",
       "      <td>Black</td>\n",
       "      <td>Black</td>\n",
       "      <td>None reported</td>\n",
       "      <td>Yes</td>\n",
       "      <td>45000</td>\n",
       "    </tr>\n",
       "    <tr>\n",
       "      <th>4</th>\n",
       "      <td>4</td>\n",
       "      <td>Mercedes-Benz</td>\n",
       "      <td>Metris Base</td>\n",
       "      <td>2021</td>\n",
       "      <td>7388</td>\n",
       "      <td>Gasoline</td>\n",
       "      <td>208.0HP 2.0L 4 Cylinder Engine Gasoline Fuel</td>\n",
       "      <td>7-Speed A/T</td>\n",
       "      <td>Black</td>\n",
       "      <td>Beige</td>\n",
       "      <td>None reported</td>\n",
       "      <td>Yes</td>\n",
       "      <td>97500</td>\n",
       "    </tr>\n",
       "    <tr>\n",
       "      <th>...</th>\n",
       "      <td>...</td>\n",
       "      <td>...</td>\n",
       "      <td>...</td>\n",
       "      <td>...</td>\n",
       "      <td>...</td>\n",
       "      <td>...</td>\n",
       "      <td>...</td>\n",
       "      <td>...</td>\n",
       "      <td>...</td>\n",
       "      <td>...</td>\n",
       "      <td>...</td>\n",
       "      <td>...</td>\n",
       "      <td>...</td>\n",
       "    </tr>\n",
       "    <tr>\n",
       "      <th>188528</th>\n",
       "      <td>188528</td>\n",
       "      <td>Cadillac</td>\n",
       "      <td>Escalade ESV Platinum</td>\n",
       "      <td>2017</td>\n",
       "      <td>49000</td>\n",
       "      <td>Gasoline</td>\n",
       "      <td>420.0HP 6.2L 8 Cylinder Engine Gasoline Fuel</td>\n",
       "      <td>Transmission w/Dual Shift Mode</td>\n",
       "      <td>White</td>\n",
       "      <td>Beige</td>\n",
       "      <td>None reported</td>\n",
       "      <td>Yes</td>\n",
       "      <td>27500</td>\n",
       "    </tr>\n",
       "    <tr>\n",
       "      <th>188529</th>\n",
       "      <td>188529</td>\n",
       "      <td>Mercedes-Benz</td>\n",
       "      <td>AMG C 43 AMG C 43 4MATIC</td>\n",
       "      <td>2018</td>\n",
       "      <td>28600</td>\n",
       "      <td>Gasoline</td>\n",
       "      <td>385.0HP 3.0L V6 Cylinder Engine Gasoline Fuel</td>\n",
       "      <td>8-Speed A/T</td>\n",
       "      <td>White</td>\n",
       "      <td>Black</td>\n",
       "      <td>At least 1 accident or damage reported</td>\n",
       "      <td>Yes</td>\n",
       "      <td>30000</td>\n",
       "    </tr>\n",
       "    <tr>\n",
       "      <th>188530</th>\n",
       "      <td>188530</td>\n",
       "      <td>Mercedes-Benz</td>\n",
       "      <td>AMG GLC 63 Base 4MATIC</td>\n",
       "      <td>2021</td>\n",
       "      <td>13650</td>\n",
       "      <td>Gasoline</td>\n",
       "      <td>469.0HP 4.0L 8 Cylinder Engine Gasoline Fuel</td>\n",
       "      <td>7-Speed A/T</td>\n",
       "      <td>White</td>\n",
       "      <td>Black</td>\n",
       "      <td>None reported</td>\n",
       "      <td>Yes</td>\n",
       "      <td>86900</td>\n",
       "    </tr>\n",
       "    <tr>\n",
       "      <th>188531</th>\n",
       "      <td>188531</td>\n",
       "      <td>Audi</td>\n",
       "      <td>S5 3.0T Prestige</td>\n",
       "      <td>2022</td>\n",
       "      <td>13895</td>\n",
       "      <td>Gasoline</td>\n",
       "      <td>3.0L</td>\n",
       "      <td>1-Speed Automatic</td>\n",
       "      <td>Daytona Gray Pearl Effect</td>\n",
       "      <td>Black</td>\n",
       "      <td>None reported</td>\n",
       "      <td>NaN</td>\n",
       "      <td>84900</td>\n",
       "    </tr>\n",
       "    <tr>\n",
       "      <th>188532</th>\n",
       "      <td>188532</td>\n",
       "      <td>Porsche</td>\n",
       "      <td>Macan Base</td>\n",
       "      <td>2016</td>\n",
       "      <td>59500</td>\n",
       "      <td>Gasoline</td>\n",
       "      <td>252.0HP 2.0L 4 Cylinder Engine Gasoline Fuel</td>\n",
       "      <td>Transmission w/Dual Shift Mode</td>\n",
       "      <td>White</td>\n",
       "      <td>Black</td>\n",
       "      <td>None reported</td>\n",
       "      <td>Yes</td>\n",
       "      <td>28995</td>\n",
       "    </tr>\n",
       "  </tbody>\n",
       "</table>\n",
       "<p>188533 rows × 13 columns</p>\n",
       "</div>"
      ],
      "text/plain": [
       "\n",
       "            id          brand                     model  model_year  milage  \\\n",
       "\u001b[1;36m0\u001b[0m            \u001b[1;36m0\u001b[0m           MINI             Cooper S Base        \u001b[1;36m2007\u001b[0m  \u001b[1;36m213000\u001b[0m   \n",
       "\u001b[1;36m1\u001b[0m            \u001b[1;36m1\u001b[0m        Lincoln                     LS V8        \u001b[1;36m2002\u001b[0m  \u001b[1;36m143250\u001b[0m   \n",
       "\u001b[1;36m2\u001b[0m            \u001b[1;36m2\u001b[0m      Chevrolet         Silverado \u001b[1;36m2500\u001b[0m LT        \u001b[1;36m2002\u001b[0m  \u001b[1;36m136731\u001b[0m   \n",
       "\u001b[1;36m3\u001b[0m            \u001b[1;36m3\u001b[0m        Genesis          G90 \u001b[1;36m5.0\u001b[0m Ultimate        \u001b[1;36m2017\u001b[0m   \u001b[1;36m19500\u001b[0m   \n",
       "\u001b[1;36m4\u001b[0m            \u001b[1;36m4\u001b[0m  Mercedes-Benz               Metris Base        \u001b[1;36m2021\u001b[0m    \u001b[1;36m7388\u001b[0m   \n",
       "\u001b[33m...\u001b[0m        \u001b[33m...\u001b[0m            \u001b[33m...\u001b[0m                       \u001b[33m...\u001b[0m         \u001b[33m...\u001b[0m     \u001b[33m...\u001b[0m   \n",
       "\u001b[1;36m188528\u001b[0m  \u001b[1;36m188528\u001b[0m       Cadillac     Escalade ESV Platinum        \u001b[1;36m2017\u001b[0m   \u001b[1;36m49000\u001b[0m   \n",
       "\u001b[1;36m188529\u001b[0m  \u001b[1;36m188529\u001b[0m  Mercedes-Benz  AMG C \u001b[1;36m43\u001b[0m AMG C \u001b[1;36m43\u001b[0m 4MATIC        \u001b[1;36m2018\u001b[0m   \u001b[1;36m28600\u001b[0m   \n",
       "\u001b[1;36m188530\u001b[0m  \u001b[1;36m188530\u001b[0m  Mercedes-Benz    AMG GLC \u001b[1;36m63\u001b[0m Base 4MATIC        \u001b[1;36m2021\u001b[0m   \u001b[1;36m13650\u001b[0m   \n",
       "\u001b[1;36m188531\u001b[0m  \u001b[1;36m188531\u001b[0m           Audi          S5 \u001b[1;36m3.\u001b[0m0T Prestige        \u001b[1;36m2022\u001b[0m   \u001b[1;36m13895\u001b[0m   \n",
       "\u001b[1;36m188532\u001b[0m  \u001b[1;36m188532\u001b[0m        Porsche                Macan Base        \u001b[1;36m2016\u001b[0m   \u001b[1;36m59500\u001b[0m   \n",
       "\n",
       "            fuel_type                                             engine  \\\n",
       "\u001b[1;36m0\u001b[0m            Gasoline       \u001b[1;36m172.\u001b[0m0HP \u001b[1;36m1.\u001b[0m6L \u001b[1;36m4\u001b[0m Cylinder Engine Gasoline Fuel   \n",
       "\u001b[1;36m1\u001b[0m            Gasoline       \u001b[1;36m252.\u001b[0m0HP \u001b[1;36m3.\u001b[0m9L \u001b[1;36m8\u001b[0m Cylinder Engine Gasoline Fuel   \n",
       "\u001b[1;36m2\u001b[0m       E85 Flex Fuel  \u001b[1;36m320.\u001b[0m0HP \u001b[1;36m5.\u001b[0m3L \u001b[1;36m8\u001b[0m Cylinder Engine Flex Fuel Capab\u001b[33m...\u001b[0m   \n",
       "\u001b[1;36m3\u001b[0m            Gasoline       \u001b[1;36m420.\u001b[0m0HP \u001b[1;36m5.\u001b[0m0L \u001b[1;36m8\u001b[0m Cylinder Engine Gasoline Fuel   \n",
       "\u001b[1;36m4\u001b[0m            Gasoline       \u001b[1;36m208.\u001b[0m0HP \u001b[1;36m2.\u001b[0m0L \u001b[1;36m4\u001b[0m Cylinder Engine Gasoline Fuel   \n",
       "\u001b[33m...\u001b[0m               \u001b[33m...\u001b[0m                                                \u001b[33m...\u001b[0m   \n",
       "\u001b[1;36m188528\u001b[0m       Gasoline       \u001b[1;36m420.\u001b[0m0HP \u001b[1;36m6.\u001b[0m2L \u001b[1;36m8\u001b[0m Cylinder Engine Gasoline Fuel   \n",
       "\u001b[1;36m188529\u001b[0m       Gasoline      \u001b[1;36m385.\u001b[0m0HP \u001b[1;36m3.\u001b[0m0L V6 Cylinder Engine Gasoline Fuel   \n",
       "\u001b[1;36m188530\u001b[0m       Gasoline       \u001b[1;36m469.\u001b[0m0HP \u001b[1;36m4.\u001b[0m0L \u001b[1;36m8\u001b[0m Cylinder Engine Gasoline Fuel   \n",
       "\u001b[1;36m188531\u001b[0m       Gasoline                                               \u001b[1;36m3.\u001b[0m0L   \n",
       "\u001b[1;36m188532\u001b[0m       Gasoline       \u001b[1;36m252.\u001b[0m0HP \u001b[1;36m2.\u001b[0m0L \u001b[1;36m4\u001b[0m Cylinder Engine Gasoline Fuel   \n",
       "\n",
       "                          transmission                    ext_col int_col  \\\n",
       "\u001b[1;36m0\u001b[0m                                  A/T                     Yellow    Gray   \n",
       "\u001b[1;36m1\u001b[0m                                  A/T                     Silver   Beige   \n",
       "\u001b[1;36m2\u001b[0m                                  A/T                       Blue    Gray   \n",
       "\u001b[1;36m3\u001b[0m       Transmission w/Dual Shift Mode                      Black   Black   \n",
       "\u001b[1;36m4\u001b[0m                          \u001b[1;36m7\u001b[0m-Speed A/T                      Black   Beige   \n",
       "\u001b[33m...\u001b[0m                                \u001b[33m...\u001b[0m                        \u001b[33m...\u001b[0m     \u001b[33m...\u001b[0m   \n",
       "\u001b[1;36m188528\u001b[0m  Transmission w/Dual Shift Mode                      White   Beige   \n",
       "\u001b[1;36m188529\u001b[0m                     \u001b[1;36m8\u001b[0m-Speed A/T                      White   Black   \n",
       "\u001b[1;36m188530\u001b[0m                     \u001b[1;36m7\u001b[0m-Speed A/T                      White   Black   \n",
       "\u001b[1;36m188531\u001b[0m               \u001b[1;36m1\u001b[0m-Speed Automatic  Daytona Gray Pearl Effect   Black   \n",
       "\u001b[1;36m188532\u001b[0m  Transmission w/Dual Shift Mode                      White   Black   \n",
       "\n",
       "                                      accident clean_title  price  \n",
       "\u001b[1;36m0\u001b[0m                                \u001b[3;35mNone\u001b[0m reported         Yes   \u001b[1;36m4200\u001b[0m  \n",
       "\u001b[1;36m1\u001b[0m       At least \u001b[1;36m1\u001b[0m accident or damage reported         Yes   \u001b[1;36m4999\u001b[0m  \n",
       "\u001b[1;36m2\u001b[0m                                \u001b[3;35mNone\u001b[0m reported         Yes  \u001b[1;36m13900\u001b[0m  \n",
       "\u001b[1;36m3\u001b[0m                                \u001b[3;35mNone\u001b[0m reported         Yes  \u001b[1;36m45000\u001b[0m  \n",
       "\u001b[1;36m4\u001b[0m                                \u001b[3;35mNone\u001b[0m reported         Yes  \u001b[1;36m97500\u001b[0m  \n",
       "\u001b[33m...\u001b[0m                                        \u001b[33m...\u001b[0m         \u001b[33m...\u001b[0m    \u001b[33m...\u001b[0m  \n",
       "\u001b[1;36m188528\u001b[0m                           \u001b[3;35mNone\u001b[0m reported         Yes  \u001b[1;36m27500\u001b[0m  \n",
       "\u001b[1;36m188529\u001b[0m  At least \u001b[1;36m1\u001b[0m accident or damage reported         Yes  \u001b[1;36m30000\u001b[0m  \n",
       "\u001b[1;36m188530\u001b[0m                           \u001b[3;35mNone\u001b[0m reported         Yes  \u001b[1;36m86900\u001b[0m  \n",
       "\u001b[1;36m188531\u001b[0m                           \u001b[3;35mNone\u001b[0m reported         NaN  \u001b[1;36m84900\u001b[0m  \n",
       "\u001b[1;36m188532\u001b[0m                           \u001b[3;35mNone\u001b[0m reported         Yes  \u001b[1;36m28995\u001b[0m  \n",
       "\n",
       "\u001b[1m[\u001b[0m\u001b[1;36m188533\u001b[0m rows x \u001b[1;36m13\u001b[0m columns\u001b[1m]\u001b[0m"
      ]
     },
     "execution_count": 88,
     "metadata": {},
     "output_type": "execute_result"
    }
   ],
   "source": [
    "cars"
   ]
  },
  {
   "cell_type": "code",
   "execution_count": 95,
   "id": "82ce5f3b-2ce7-4d1e-9542-94356f777372",
   "metadata": {},
   "outputs": [
    {
     "data": {
      "text/html": [
       "<pre style=\"white-space:pre;overflow-x:auto;line-height:normal;font-family:Menlo,'DejaVu Sans Mono',consolas,'Courier New',monospace\"></pre>\n"
      ],
      "text/plain": []
     },
     "metadata": {},
     "output_type": "display_data"
    },
    {
     "data": {
      "text/html": [
       "<div>\n",
       "<style scoped>\n",
       "    .dataframe tbody tr th:only-of-type {\n",
       "        vertical-align: middle;\n",
       "    }\n",
       "\n",
       "    .dataframe tbody tr th {\n",
       "        vertical-align: top;\n",
       "    }\n",
       "\n",
       "    .dataframe thead th {\n",
       "        text-align: right;\n",
       "    }\n",
       "</style>\n",
       "<table border=\"1\" class=\"dataframe\">\n",
       "  <thead>\n",
       "    <tr style=\"text-align: right;\">\n",
       "      <th></th>\n",
       "      <th>id</th>\n",
       "      <th>brand</th>\n",
       "      <th>model</th>\n",
       "      <th>model_year</th>\n",
       "      <th>milage</th>\n",
       "      <th>fuel_type</th>\n",
       "      <th>engine</th>\n",
       "      <th>transmission</th>\n",
       "      <th>ext_col</th>\n",
       "      <th>int_col</th>\n",
       "      <th>accident</th>\n",
       "      <th>clean_title</th>\n",
       "      <th>price</th>\n",
       "      <th>premium_score</th>\n",
       "    </tr>\n",
       "  </thead>\n",
       "  <tbody>\n",
       "    <tr>\n",
       "      <th>0</th>\n",
       "      <td>251</td>\n",
       "      <td>Ferrari</td>\n",
       "      <td>911 GT2 RS</td>\n",
       "      <td>2022</td>\n",
       "      <td>19250</td>\n",
       "      <td>Gasoline</td>\n",
       "      <td>710.0HP 4.0L 8 Cylinder Engine Gasoline Fuel</td>\n",
       "      <td>8-Speed A/T</td>\n",
       "      <td>Orange</td>\n",
       "      <td>Red</td>\n",
       "      <td>None reported</td>\n",
       "      <td>Yes</td>\n",
       "      <td>124900</td>\n",
       "      <td>4</td>\n",
       "    </tr>\n",
       "    <tr>\n",
       "      <th>1</th>\n",
       "      <td>389</td>\n",
       "      <td>BMW</td>\n",
       "      <td>Equus Signature</td>\n",
       "      <td>2013</td>\n",
       "      <td>82000</td>\n",
       "      <td>Gasoline</td>\n",
       "      <td>429.0HP 5.0L 8 Cylinder Engine Gasoline Fuel</td>\n",
       "      <td>8-Speed A/T</td>\n",
       "      <td>Red</td>\n",
       "      <td>Beige</td>\n",
       "      <td>None reported</td>\n",
       "      <td>Yes</td>\n",
       "      <td>17900</td>\n",
       "      <td>0</td>\n",
       "    </tr>\n",
       "    <tr>\n",
       "      <th>2</th>\n",
       "      <td>699</td>\n",
       "      <td>Hyundai</td>\n",
       "      <td>911 Carrera S</td>\n",
       "      <td>2013</td>\n",
       "      <td>61600</td>\n",
       "      <td>Gasoline</td>\n",
       "      <td>400.0HP 3.8L Flat 6 Cylinder Engine Gasoline Fuel</td>\n",
       "      <td>7-Speed A/T</td>\n",
       "      <td>Blue</td>\n",
       "      <td>Gray</td>\n",
       "      <td>None reported</td>\n",
       "      <td>Yes</td>\n",
       "      <td>71000</td>\n",
       "      <td>2</td>\n",
       "    </tr>\n",
       "    <tr>\n",
       "      <th>3</th>\n",
       "      <td>1064</td>\n",
       "      <td>Mercedes-Benz</td>\n",
       "      <td>MKX Reserve</td>\n",
       "      <td>2019</td>\n",
       "      <td>72900</td>\n",
       "      <td>Gasoline</td>\n",
       "      <td>335.0HP 2.7L V6 Cylinder Engine Gasoline Fuel</td>\n",
       "      <td>Transmission w/Dual Shift Mode</td>\n",
       "      <td>Black</td>\n",
       "      <td>Black</td>\n",
       "      <td>None reported</td>\n",
       "      <td>Yes</td>\n",
       "      <td>49950</td>\n",
       "      <td>1</td>\n",
       "    </tr>\n",
       "    <tr>\n",
       "      <th>4</th>\n",
       "      <td>1107</td>\n",
       "      <td>Mazda</td>\n",
       "      <td>Tucson Limited</td>\n",
       "      <td>2023</td>\n",
       "      <td>20472</td>\n",
       "      <td>Gasoline</td>\n",
       "      <td>2.0L I4 16V GDI DOHC Turbo</td>\n",
       "      <td>6-Speed Automatic</td>\n",
       "      <td>Black Noir Pearl</td>\n",
       "      <td>Red</td>\n",
       "      <td>None reported</td>\n",
       "      <td>Yes</td>\n",
       "      <td>69995</td>\n",
       "      <td>2</td>\n",
       "    </tr>\n",
       "    <tr>\n",
       "      <th>...</th>\n",
       "      <td>...</td>\n",
       "      <td>...</td>\n",
       "      <td>...</td>\n",
       "      <td>...</td>\n",
       "      <td>...</td>\n",
       "      <td>...</td>\n",
       "      <td>...</td>\n",
       "      <td>...</td>\n",
       "      <td>...</td>\n",
       "      <td>...</td>\n",
       "      <td>...</td>\n",
       "      <td>...</td>\n",
       "      <td>...</td>\n",
       "      <td>...</td>\n",
       "    </tr>\n",
       "    <tr>\n",
       "      <th>1414</th>\n",
       "      <td>187708</td>\n",
       "      <td>Chevrolet</td>\n",
       "      <td>Excursion Limited 4WD</td>\n",
       "      <td>2006</td>\n",
       "      <td>245000</td>\n",
       "      <td>Diesel</td>\n",
       "      <td>325.0HP 6.0L 8 Cylinder Engine Diesel Fuel</td>\n",
       "      <td>A/T</td>\n",
       "      <td>White</td>\n",
       "      <td>Gray</td>\n",
       "      <td>At least 1 accident or damage reported</td>\n",
       "      <td>Yes</td>\n",
       "      <td>7999</td>\n",
       "      <td>0</td>\n",
       "    </tr>\n",
       "    <tr>\n",
       "      <th>1415</th>\n",
       "      <td>187784</td>\n",
       "      <td>Ford</td>\n",
       "      <td>718 Cayman GT4</td>\n",
       "      <td>2021</td>\n",
       "      <td>10400</td>\n",
       "      <td>Gasoline</td>\n",
       "      <td>414.0HP 4.0L Flat 6 Cylinder Engine Gasoline Fuel</td>\n",
       "      <td>Transmission w/Dual Shift Mode</td>\n",
       "      <td>Gray</td>\n",
       "      <td>Black</td>\n",
       "      <td>None reported</td>\n",
       "      <td>Yes</td>\n",
       "      <td>105000</td>\n",
       "      <td>3</td>\n",
       "    </tr>\n",
       "    <tr>\n",
       "      <th>1416</th>\n",
       "      <td>188139</td>\n",
       "      <td>Tesla</td>\n",
       "      <td>Leaf SL</td>\n",
       "      <td>2011</td>\n",
       "      <td>56450</td>\n",
       "      <td>NaN</td>\n",
       "      <td>107.0HP Electric Motor Electric Fuel System</td>\n",
       "      <td>1-Speed A/T</td>\n",
       "      <td>Red</td>\n",
       "      <td>White</td>\n",
       "      <td>At least 1 accident or damage reported</td>\n",
       "      <td>Yes</td>\n",
       "      <td>9100</td>\n",
       "      <td>0</td>\n",
       "    </tr>\n",
       "    <tr>\n",
       "      <th>1417</th>\n",
       "      <td>188283</td>\n",
       "      <td>Bentley</td>\n",
       "      <td>Huracan LP580-2S</td>\n",
       "      <td>2017</td>\n",
       "      <td>15198</td>\n",
       "      <td>Gasoline</td>\n",
       "      <td>573.0HP 5.2L 10 Cylinder Engine Gasoline Fuel</td>\n",
       "      <td>Transmission w/Dual Shift Mode</td>\n",
       "      <td>Blue</td>\n",
       "      <td>Black</td>\n",
       "      <td>None reported</td>\n",
       "      <td>Yes</td>\n",
       "      <td>164725</td>\n",
       "      <td>5</td>\n",
       "    </tr>\n",
       "    <tr>\n",
       "      <th>1418</th>\n",
       "      <td>188484</td>\n",
       "      <td>Ford</td>\n",
       "      <td>Model X P100D</td>\n",
       "      <td>2018</td>\n",
       "      <td>52000</td>\n",
       "      <td>NaN</td>\n",
       "      <td>534.0HP Electric Motor Electric Fuel System</td>\n",
       "      <td>1-Speed A/T</td>\n",
       "      <td>Gray</td>\n",
       "      <td>Black</td>\n",
       "      <td>None reported</td>\n",
       "      <td>Yes</td>\n",
       "      <td>45000</td>\n",
       "      <td>1</td>\n",
       "    </tr>\n",
       "  </tbody>\n",
       "</table>\n",
       "<p>1419 rows × 14 columns</p>\n",
       "</div>"
      ],
      "text/plain": [
       "\n",
       "          id          brand                  model  model_year  milage  \\\n",
       "\u001b[1;36m0\u001b[0m        \u001b[1;36m251\u001b[0m        Ferrari             \u001b[1;36m911\u001b[0m GT2 RS        \u001b[1;36m2022\u001b[0m   \u001b[1;36m19250\u001b[0m   \n",
       "\u001b[1;36m1\u001b[0m        \u001b[1;36m389\u001b[0m            BMW        Equus Signature        \u001b[1;36m2013\u001b[0m   \u001b[1;36m82000\u001b[0m   \n",
       "\u001b[1;36m2\u001b[0m        \u001b[1;36m699\u001b[0m        Hyundai          \u001b[1;36m911\u001b[0m Carrera S        \u001b[1;36m2013\u001b[0m   \u001b[1;36m61600\u001b[0m   \n",
       "\u001b[1;36m3\u001b[0m       \u001b[1;36m1064\u001b[0m  Mercedes-Benz            MKX Reserve        \u001b[1;36m2019\u001b[0m   \u001b[1;36m72900\u001b[0m   \n",
       "\u001b[1;36m4\u001b[0m       \u001b[1;36m1107\u001b[0m          Mazda         Tucson Limited        \u001b[1;36m2023\u001b[0m   \u001b[1;36m20472\u001b[0m   \n",
       "\u001b[33m...\u001b[0m      \u001b[33m...\u001b[0m            \u001b[33m...\u001b[0m                    \u001b[33m...\u001b[0m         \u001b[33m...\u001b[0m     \u001b[33m...\u001b[0m   \n",
       "\u001b[1;36m1414\u001b[0m  \u001b[1;36m187708\u001b[0m      Chevrolet  Excursion Limited 4WD        \u001b[1;36m2006\u001b[0m  \u001b[1;36m245000\u001b[0m   \n",
       "\u001b[1;36m1415\u001b[0m  \u001b[1;36m187784\u001b[0m           Ford         \u001b[1;36m718\u001b[0m Cayman GT4        \u001b[1;36m2021\u001b[0m   \u001b[1;36m10400\u001b[0m   \n",
       "\u001b[1;36m1416\u001b[0m  \u001b[1;36m188139\u001b[0m          Tesla                Leaf SL        \u001b[1;36m2011\u001b[0m   \u001b[1;36m56450\u001b[0m   \n",
       "\u001b[1;36m1417\u001b[0m  \u001b[1;36m188283\u001b[0m        Bentley       Huracan LP580-2S        \u001b[1;36m2017\u001b[0m   \u001b[1;36m15198\u001b[0m   \n",
       "\u001b[1;36m1418\u001b[0m  \u001b[1;36m188484\u001b[0m           Ford          Model X P100D        \u001b[1;36m2018\u001b[0m   \u001b[1;36m52000\u001b[0m   \n",
       "\n",
       "     fuel_type                                             engine  \\\n",
       "\u001b[1;36m0\u001b[0m     Gasoline       \u001b[1;36m710.\u001b[0m0HP \u001b[1;36m4.\u001b[0m0L \u001b[1;36m8\u001b[0m Cylinder Engine Gasoline Fuel   \n",
       "\u001b[1;36m1\u001b[0m     Gasoline       \u001b[1;36m429.\u001b[0m0HP \u001b[1;36m5.\u001b[0m0L \u001b[1;36m8\u001b[0m Cylinder Engine Gasoline Fuel   \n",
       "\u001b[1;36m2\u001b[0m     Gasoline  \u001b[1;36m400.\u001b[0m0HP \u001b[1;36m3.\u001b[0m8L Flat \u001b[1;36m6\u001b[0m Cylinder Engine Gasoline Fuel   \n",
       "\u001b[1;36m3\u001b[0m     Gasoline      \u001b[1;36m335.\u001b[0m0HP \u001b[1;36m2.\u001b[0m7L V6 Cylinder Engine Gasoline Fuel   \n",
       "\u001b[1;36m4\u001b[0m     Gasoline                         \u001b[1;36m2.\u001b[0m0L I4 16V GDI DOHC Turbo   \n",
       "\u001b[33m...\u001b[0m        \u001b[33m...\u001b[0m                                                \u001b[33m...\u001b[0m   \n",
       "\u001b[1;36m1414\u001b[0m    Diesel         \u001b[1;36m325.\u001b[0m0HP \u001b[1;36m6.\u001b[0m0L \u001b[1;36m8\u001b[0m Cylinder Engine Diesel Fuel   \n",
       "\u001b[1;36m1415\u001b[0m  Gasoline  \u001b[1;36m414.\u001b[0m0HP \u001b[1;36m4.\u001b[0m0L Flat \u001b[1;36m6\u001b[0m Cylinder Engine Gasoline Fuel   \n",
       "\u001b[1;36m1416\u001b[0m       NaN        \u001b[1;36m107.\u001b[0m0HP Electric Motor Electric Fuel System   \n",
       "\u001b[1;36m1417\u001b[0m  Gasoline      \u001b[1;36m573.\u001b[0m0HP \u001b[1;36m5.\u001b[0m2L \u001b[1;36m10\u001b[0m Cylinder Engine Gasoline Fuel   \n",
       "\u001b[1;36m1418\u001b[0m       NaN        \u001b[1;36m534.\u001b[0m0HP Electric Motor Electric Fuel System   \n",
       "\n",
       "                        transmission           ext_col int_col  \\\n",
       "\u001b[1;36m0\u001b[0m                        \u001b[1;36m8\u001b[0m-Speed A/T            Orange     Red   \n",
       "\u001b[1;36m1\u001b[0m                        \u001b[1;36m8\u001b[0m-Speed A/T               Red   Beige   \n",
       "\u001b[1;36m2\u001b[0m                        \u001b[1;36m7\u001b[0m-Speed A/T              Blue    Gray   \n",
       "\u001b[1;36m3\u001b[0m     Transmission w/Dual Shift Mode             Black   Black   \n",
       "\u001b[1;36m4\u001b[0m                  \u001b[1;36m6\u001b[0m-Speed Automatic  Black Noir Pearl     Red   \n",
       "\u001b[33m...\u001b[0m                              \u001b[33m...\u001b[0m               \u001b[33m...\u001b[0m     \u001b[33m...\u001b[0m   \n",
       "\u001b[1;36m1414\u001b[0m                             A/T             White    Gray   \n",
       "\u001b[1;36m1415\u001b[0m  Transmission w/Dual Shift Mode              Gray   Black   \n",
       "\u001b[1;36m1416\u001b[0m                     \u001b[1;36m1\u001b[0m-Speed A/T               Red   White   \n",
       "\u001b[1;36m1417\u001b[0m  Transmission w/Dual Shift Mode              Blue   Black   \n",
       "\u001b[1;36m1418\u001b[0m                     \u001b[1;36m1\u001b[0m-Speed A/T              Gray   Black   \n",
       "\n",
       "                                    accident clean_title   price  \\\n",
       "\u001b[1;36m0\u001b[0m                              \u001b[3;35mNone\u001b[0m reported         Yes  \u001b[1;36m124900\u001b[0m   \n",
       "\u001b[1;36m1\u001b[0m                              \u001b[3;35mNone\u001b[0m reported         Yes   \u001b[1;36m17900\u001b[0m   \n",
       "\u001b[1;36m2\u001b[0m                              \u001b[3;35mNone\u001b[0m reported         Yes   \u001b[1;36m71000\u001b[0m   \n",
       "\u001b[1;36m3\u001b[0m                              \u001b[3;35mNone\u001b[0m reported         Yes   \u001b[1;36m49950\u001b[0m   \n",
       "\u001b[1;36m4\u001b[0m                              \u001b[3;35mNone\u001b[0m reported         Yes   \u001b[1;36m69995\u001b[0m   \n",
       "\u001b[33m...\u001b[0m                                      \u001b[33m...\u001b[0m         \u001b[33m...\u001b[0m     \u001b[33m...\u001b[0m   \n",
       "\u001b[1;36m1414\u001b[0m  At least \u001b[1;36m1\u001b[0m accident or damage reported         Yes    \u001b[1;36m7999\u001b[0m   \n",
       "\u001b[1;36m1415\u001b[0m                           \u001b[3;35mNone\u001b[0m reported         Yes  \u001b[1;36m105000\u001b[0m   \n",
       "\u001b[1;36m1416\u001b[0m  At least \u001b[1;36m1\u001b[0m accident or damage reported         Yes    \u001b[1;36m9100\u001b[0m   \n",
       "\u001b[1;36m1417\u001b[0m                           \u001b[3;35mNone\u001b[0m reported         Yes  \u001b[1;36m164725\u001b[0m   \n",
       "\u001b[1;36m1418\u001b[0m                           \u001b[3;35mNone\u001b[0m reported         Yes   \u001b[1;36m45000\u001b[0m   \n",
       "\n",
       "      premium_score  \n",
       "\u001b[1;36m0\u001b[0m                 \u001b[1;36m4\u001b[0m  \n",
       "\u001b[1;36m1\u001b[0m                 \u001b[1;36m0\u001b[0m  \n",
       "\u001b[1;36m2\u001b[0m                 \u001b[1;36m2\u001b[0m  \n",
       "\u001b[1;36m3\u001b[0m                 \u001b[1;36m1\u001b[0m  \n",
       "\u001b[1;36m4\u001b[0m                 \u001b[1;36m2\u001b[0m  \n",
       "\u001b[33m...\u001b[0m             \u001b[33m...\u001b[0m  \n",
       "\u001b[1;36m1414\u001b[0m              \u001b[1;36m0\u001b[0m  \n",
       "\u001b[1;36m1415\u001b[0m              \u001b[1;36m3\u001b[0m  \n",
       "\u001b[1;36m1416\u001b[0m              \u001b[1;36m0\u001b[0m  \n",
       "\u001b[1;36m1417\u001b[0m              \u001b[1;36m5\u001b[0m  \n",
       "\u001b[1;36m1418\u001b[0m              \u001b[1;36m1\u001b[0m  \n",
       "\n",
       "\u001b[1m[\u001b[0m\u001b[1;36m1419\u001b[0m rows x \u001b[1;36m14\u001b[0m columns\u001b[1m]\u001b[0m"
      ]
     },
     "execution_count": 95,
     "metadata": {},
     "output_type": "execute_result"
    }
   ],
   "source": [
    "bins = np.linspace(cars['price'].min() - 1, cars['price'].max() + 1, 100).astype(int)\n",
    "grouped = cars.groupby(['brand', 'model'])['price'].mean().astype(int).reset_index()\n",
    "grouped['premium_score'] = pd.cut(grouped['price'], bins=bins, labels=False).astype(int)\n",
    "cars.merge(grouped)"
   ]
  },
  {
   "cell_type": "code",
   "execution_count": 100,
   "id": "20997a81-872e-41eb-8aba-bd132a728c1c",
   "metadata": {},
   "outputs": [],
   "source": [
    "def get_premium_score(df: pd.DataFrame, n_bins: int = 100) -> pd.Series:\n",
    "    avg_price = df.groupby(['brand', 'model'])['price'].mean()\n",
    "\n",
    "    bins = np.linspace(avg_price.min(), avg_price.max(), n_bins)\n",
    "    scores = pd.cut(avg_price, bins=bins, labels=False)\n",
    "\n",
    "    score_map = scores.to_dict()\n",
    "    return df.set_index(['brand', 'model']).index.map(score_map)\n"
   ]
  },
  {
   "cell_type": "code",
   "execution_count": 101,
   "id": "3f1ae8ff-3639-4b2f-ad2e-adb45a47a03d",
   "metadata": {},
   "outputs": [
    {
     "data": {
      "text/html": [
       "<pre style=\"white-space:pre;overflow-x:auto;line-height:normal;font-family:Menlo,'DejaVu Sans Mono',consolas,'Courier New',monospace\"><span style=\"color: #7fbfbf; text-decoration-color: #7fbfbf\">[10/05/25 18:03:50] </span><span style=\"color: #000080; text-decoration-color: #000080\">INFO    </span> Loading data from <span style=\"color: #ff8700; text-decoration-color: #ff8700\">cars</span> <span style=\"font-weight: bold\">(</span>CSVDataset<span style=\"font-weight: bold\">)</span><span style=\"color: #808000; text-decoration-color: #808000\">...</span>                            <a href=\"file:///home/zishan/anaconda3/envs/car_price_prediction/lib/python3.13/site-packages/kedro/io/data_catalog.py\" target=\"_blank\"><span style=\"color: #7f7f7f; text-decoration-color: #7f7f7f\">data_catalog.py</span></a><span style=\"color: #7f7f7f; text-decoration-color: #7f7f7f\">:</span><a href=\"file:///home/zishan/anaconda3/envs/car_price_prediction/lib/python3.13/site-packages/kedro/io/data_catalog.py#1046\" target=\"_blank\"><span style=\"color: #7f7f7f; text-decoration-color: #7f7f7f\">1046</span></a>\n",
       "</pre>\n"
      ],
      "text/plain": [
       "\u001b[2;36m[10/05/25 18:03:50]\u001b[0m\u001b[2;36m \u001b[0m\u001b[34mINFO    \u001b[0m Loading data from \u001b[38;5;208mcars\u001b[0m \u001b[1m(\u001b[0mCSVDataset\u001b[1m)\u001b[0m\u001b[33m...\u001b[0m                            \u001b]8;id=727808;file:///home/zishan/anaconda3/envs/car_price_prediction/lib/python3.13/site-packages/kedro/io/data_catalog.py\u001b\\\u001b[2mdata_catalog.py\u001b[0m\u001b]8;;\u001b\\\u001b[2m:\u001b[0m\u001b]8;id=537205;file:///home/zishan/anaconda3/envs/car_price_prediction/lib/python3.13/site-packages/kedro/io/data_catalog.py#1046\u001b\\\u001b[2m1046\u001b[0m\u001b]8;;\u001b\\\n"
      ]
     },
     "metadata": {},
     "output_type": "display_data"
    }
   ],
   "source": [
    "df = catalog.load('cars')"
   ]
  },
  {
   "cell_type": "code",
   "execution_count": 102,
   "id": "50681768-06d2-40c9-a464-b959729cee2a",
   "metadata": {},
   "outputs": [],
   "source": [
    "score = add_premium_score(df)"
   ]
  },
  {
   "cell_type": "code",
   "execution_count": 103,
   "id": "12343e03-98e8-49ba-ba15-463e81c29076",
   "metadata": {},
   "outputs": [],
   "source": [
    "df['premium_score'] = score"
   ]
  },
  {
   "cell_type": "code",
   "execution_count": 104,
   "id": "808b1a13-20a7-4e37-85a2-51a0a430cc68",
   "metadata": {},
   "outputs": [
    {
     "data": {
      "text/html": [
       "<pre style=\"white-space:pre;overflow-x:auto;line-height:normal;font-family:Menlo,'DejaVu Sans Mono',consolas,'Courier New',monospace\"></pre>\n"
      ],
      "text/plain": []
     },
     "metadata": {},
     "output_type": "display_data"
    },
    {
     "data": {
      "text/html": [
       "<div>\n",
       "<style scoped>\n",
       "    .dataframe tbody tr th:only-of-type {\n",
       "        vertical-align: middle;\n",
       "    }\n",
       "\n",
       "    .dataframe tbody tr th {\n",
       "        vertical-align: top;\n",
       "    }\n",
       "\n",
       "    .dataframe thead th {\n",
       "        text-align: right;\n",
       "    }\n",
       "</style>\n",
       "<table border=\"1\" class=\"dataframe\">\n",
       "  <thead>\n",
       "    <tr style=\"text-align: right;\">\n",
       "      <th></th>\n",
       "      <th>id</th>\n",
       "      <th>brand</th>\n",
       "      <th>model</th>\n",
       "      <th>model_year</th>\n",
       "      <th>milage</th>\n",
       "      <th>fuel_type</th>\n",
       "      <th>engine</th>\n",
       "      <th>transmission</th>\n",
       "      <th>ext_col</th>\n",
       "      <th>int_col</th>\n",
       "      <th>accident</th>\n",
       "      <th>clean_title</th>\n",
       "      <th>price</th>\n",
       "      <th>premium_score</th>\n",
       "    </tr>\n",
       "  </thead>\n",
       "  <tbody>\n",
       "    <tr>\n",
       "      <th>0</th>\n",
       "      <td>0</td>\n",
       "      <td>MINI</td>\n",
       "      <td>Cooper S Base</td>\n",
       "      <td>2007</td>\n",
       "      <td>213000</td>\n",
       "      <td>Gasoline</td>\n",
       "      <td>172.0HP 1.6L 4 Cylinder Engine Gasoline Fuel</td>\n",
       "      <td>A/T</td>\n",
       "      <td>Yellow</td>\n",
       "      <td>Gray</td>\n",
       "      <td>None reported</td>\n",
       "      <td>Yes</td>\n",
       "      <td>4200</td>\n",
       "      <td>0.0</td>\n",
       "    </tr>\n",
       "    <tr>\n",
       "      <th>1</th>\n",
       "      <td>1</td>\n",
       "      <td>Lincoln</td>\n",
       "      <td>LS V8</td>\n",
       "      <td>2002</td>\n",
       "      <td>143250</td>\n",
       "      <td>Gasoline</td>\n",
       "      <td>252.0HP 3.9L 8 Cylinder Engine Gasoline Fuel</td>\n",
       "      <td>A/T</td>\n",
       "      <td>Silver</td>\n",
       "      <td>Beige</td>\n",
       "      <td>At least 1 accident or damage reported</td>\n",
       "      <td>Yes</td>\n",
       "      <td>4999</td>\n",
       "      <td>0.0</td>\n",
       "    </tr>\n",
       "    <tr>\n",
       "      <th>2</th>\n",
       "      <td>2</td>\n",
       "      <td>Chevrolet</td>\n",
       "      <td>Silverado 2500 LT</td>\n",
       "      <td>2002</td>\n",
       "      <td>136731</td>\n",
       "      <td>E85 Flex Fuel</td>\n",
       "      <td>320.0HP 5.3L 8 Cylinder Engine Flex Fuel Capab...</td>\n",
       "      <td>A/T</td>\n",
       "      <td>Blue</td>\n",
       "      <td>Gray</td>\n",
       "      <td>None reported</td>\n",
       "      <td>Yes</td>\n",
       "      <td>13900</td>\n",
       "      <td>1.0</td>\n",
       "    </tr>\n",
       "    <tr>\n",
       "      <th>3</th>\n",
       "      <td>3</td>\n",
       "      <td>Genesis</td>\n",
       "      <td>G90 5.0 Ultimate</td>\n",
       "      <td>2017</td>\n",
       "      <td>19500</td>\n",
       "      <td>Gasoline</td>\n",
       "      <td>420.0HP 5.0L 8 Cylinder Engine Gasoline Fuel</td>\n",
       "      <td>Transmission w/Dual Shift Mode</td>\n",
       "      <td>Black</td>\n",
       "      <td>Black</td>\n",
       "      <td>None reported</td>\n",
       "      <td>Yes</td>\n",
       "      <td>45000</td>\n",
       "      <td>2.0</td>\n",
       "    </tr>\n",
       "    <tr>\n",
       "      <th>4</th>\n",
       "      <td>4</td>\n",
       "      <td>Mercedes-Benz</td>\n",
       "      <td>Metris Base</td>\n",
       "      <td>2021</td>\n",
       "      <td>7388</td>\n",
       "      <td>Gasoline</td>\n",
       "      <td>208.0HP 2.0L 4 Cylinder Engine Gasoline Fuel</td>\n",
       "      <td>7-Speed A/T</td>\n",
       "      <td>Black</td>\n",
       "      <td>Beige</td>\n",
       "      <td>None reported</td>\n",
       "      <td>Yes</td>\n",
       "      <td>97500</td>\n",
       "      <td>3.0</td>\n",
       "    </tr>\n",
       "    <tr>\n",
       "      <th>...</th>\n",
       "      <td>...</td>\n",
       "      <td>...</td>\n",
       "      <td>...</td>\n",
       "      <td>...</td>\n",
       "      <td>...</td>\n",
       "      <td>...</td>\n",
       "      <td>...</td>\n",
       "      <td>...</td>\n",
       "      <td>...</td>\n",
       "      <td>...</td>\n",
       "      <td>...</td>\n",
       "      <td>...</td>\n",
       "      <td>...</td>\n",
       "      <td>...</td>\n",
       "    </tr>\n",
       "    <tr>\n",
       "      <th>188528</th>\n",
       "      <td>188528</td>\n",
       "      <td>Cadillac</td>\n",
       "      <td>Escalade ESV Platinum</td>\n",
       "      <td>2017</td>\n",
       "      <td>49000</td>\n",
       "      <td>Gasoline</td>\n",
       "      <td>420.0HP 6.2L 8 Cylinder Engine Gasoline Fuel</td>\n",
       "      <td>Transmission w/Dual Shift Mode</td>\n",
       "      <td>White</td>\n",
       "      <td>Beige</td>\n",
       "      <td>None reported</td>\n",
       "      <td>Yes</td>\n",
       "      <td>27500</td>\n",
       "      <td>2.0</td>\n",
       "    </tr>\n",
       "    <tr>\n",
       "      <th>188529</th>\n",
       "      <td>188529</td>\n",
       "      <td>Mercedes-Benz</td>\n",
       "      <td>AMG C 43 AMG C 43 4MATIC</td>\n",
       "      <td>2018</td>\n",
       "      <td>28600</td>\n",
       "      <td>Gasoline</td>\n",
       "      <td>385.0HP 3.0L V6 Cylinder Engine Gasoline Fuel</td>\n",
       "      <td>8-Speed A/T</td>\n",
       "      <td>White</td>\n",
       "      <td>Black</td>\n",
       "      <td>At least 1 accident or damage reported</td>\n",
       "      <td>Yes</td>\n",
       "      <td>30000</td>\n",
       "      <td>2.0</td>\n",
       "    </tr>\n",
       "    <tr>\n",
       "      <th>188530</th>\n",
       "      <td>188530</td>\n",
       "      <td>Mercedes-Benz</td>\n",
       "      <td>AMG GLC 63 Base 4MATIC</td>\n",
       "      <td>2021</td>\n",
       "      <td>13650</td>\n",
       "      <td>Gasoline</td>\n",
       "      <td>469.0HP 4.0L 8 Cylinder Engine Gasoline Fuel</td>\n",
       "      <td>7-Speed A/T</td>\n",
       "      <td>White</td>\n",
       "      <td>Black</td>\n",
       "      <td>None reported</td>\n",
       "      <td>Yes</td>\n",
       "      <td>86900</td>\n",
       "      <td>3.0</td>\n",
       "    </tr>\n",
       "    <tr>\n",
       "      <th>188531</th>\n",
       "      <td>188531</td>\n",
       "      <td>Audi</td>\n",
       "      <td>S5 3.0T Prestige</td>\n",
       "      <td>2022</td>\n",
       "      <td>13895</td>\n",
       "      <td>Gasoline</td>\n",
       "      <td>3.0L</td>\n",
       "      <td>1-Speed Automatic</td>\n",
       "      <td>Daytona Gray Pearl Effect</td>\n",
       "      <td>Black</td>\n",
       "      <td>None reported</td>\n",
       "      <td>NaN</td>\n",
       "      <td>84900</td>\n",
       "      <td>1.0</td>\n",
       "    </tr>\n",
       "    <tr>\n",
       "      <th>188532</th>\n",
       "      <td>188532</td>\n",
       "      <td>Porsche</td>\n",
       "      <td>Macan Base</td>\n",
       "      <td>2016</td>\n",
       "      <td>59500</td>\n",
       "      <td>Gasoline</td>\n",
       "      <td>252.0HP 2.0L 4 Cylinder Engine Gasoline Fuel</td>\n",
       "      <td>Transmission w/Dual Shift Mode</td>\n",
       "      <td>White</td>\n",
       "      <td>Black</td>\n",
       "      <td>None reported</td>\n",
       "      <td>Yes</td>\n",
       "      <td>28995</td>\n",
       "      <td>2.0</td>\n",
       "    </tr>\n",
       "  </tbody>\n",
       "</table>\n",
       "<p>188533 rows × 14 columns</p>\n",
       "</div>"
      ],
      "text/plain": [
       "\n",
       "            id          brand                     model  model_year  milage  \\\n",
       "\u001b[1;36m0\u001b[0m            \u001b[1;36m0\u001b[0m           MINI             Cooper S Base        \u001b[1;36m2007\u001b[0m  \u001b[1;36m213000\u001b[0m   \n",
       "\u001b[1;36m1\u001b[0m            \u001b[1;36m1\u001b[0m        Lincoln                     LS V8        \u001b[1;36m2002\u001b[0m  \u001b[1;36m143250\u001b[0m   \n",
       "\u001b[1;36m2\u001b[0m            \u001b[1;36m2\u001b[0m      Chevrolet         Silverado \u001b[1;36m2500\u001b[0m LT        \u001b[1;36m2002\u001b[0m  \u001b[1;36m136731\u001b[0m   \n",
       "\u001b[1;36m3\u001b[0m            \u001b[1;36m3\u001b[0m        Genesis          G90 \u001b[1;36m5.0\u001b[0m Ultimate        \u001b[1;36m2017\u001b[0m   \u001b[1;36m19500\u001b[0m   \n",
       "\u001b[1;36m4\u001b[0m            \u001b[1;36m4\u001b[0m  Mercedes-Benz               Metris Base        \u001b[1;36m2021\u001b[0m    \u001b[1;36m7388\u001b[0m   \n",
       "\u001b[33m...\u001b[0m        \u001b[33m...\u001b[0m            \u001b[33m...\u001b[0m                       \u001b[33m...\u001b[0m         \u001b[33m...\u001b[0m     \u001b[33m...\u001b[0m   \n",
       "\u001b[1;36m188528\u001b[0m  \u001b[1;36m188528\u001b[0m       Cadillac     Escalade ESV Platinum        \u001b[1;36m2017\u001b[0m   \u001b[1;36m49000\u001b[0m   \n",
       "\u001b[1;36m188529\u001b[0m  \u001b[1;36m188529\u001b[0m  Mercedes-Benz  AMG C \u001b[1;36m43\u001b[0m AMG C \u001b[1;36m43\u001b[0m 4MATIC        \u001b[1;36m2018\u001b[0m   \u001b[1;36m28600\u001b[0m   \n",
       "\u001b[1;36m188530\u001b[0m  \u001b[1;36m188530\u001b[0m  Mercedes-Benz    AMG GLC \u001b[1;36m63\u001b[0m Base 4MATIC        \u001b[1;36m2021\u001b[0m   \u001b[1;36m13650\u001b[0m   \n",
       "\u001b[1;36m188531\u001b[0m  \u001b[1;36m188531\u001b[0m           Audi          S5 \u001b[1;36m3.\u001b[0m0T Prestige        \u001b[1;36m2022\u001b[0m   \u001b[1;36m13895\u001b[0m   \n",
       "\u001b[1;36m188532\u001b[0m  \u001b[1;36m188532\u001b[0m        Porsche                Macan Base        \u001b[1;36m2016\u001b[0m   \u001b[1;36m59500\u001b[0m   \n",
       "\n",
       "            fuel_type                                             engine  \\\n",
       "\u001b[1;36m0\u001b[0m            Gasoline       \u001b[1;36m172.\u001b[0m0HP \u001b[1;36m1.\u001b[0m6L \u001b[1;36m4\u001b[0m Cylinder Engine Gasoline Fuel   \n",
       "\u001b[1;36m1\u001b[0m            Gasoline       \u001b[1;36m252.\u001b[0m0HP \u001b[1;36m3.\u001b[0m9L \u001b[1;36m8\u001b[0m Cylinder Engine Gasoline Fuel   \n",
       "\u001b[1;36m2\u001b[0m       E85 Flex Fuel  \u001b[1;36m320.\u001b[0m0HP \u001b[1;36m5.\u001b[0m3L \u001b[1;36m8\u001b[0m Cylinder Engine Flex Fuel Capab\u001b[33m...\u001b[0m   \n",
       "\u001b[1;36m3\u001b[0m            Gasoline       \u001b[1;36m420.\u001b[0m0HP \u001b[1;36m5.\u001b[0m0L \u001b[1;36m8\u001b[0m Cylinder Engine Gasoline Fuel   \n",
       "\u001b[1;36m4\u001b[0m            Gasoline       \u001b[1;36m208.\u001b[0m0HP \u001b[1;36m2.\u001b[0m0L \u001b[1;36m4\u001b[0m Cylinder Engine Gasoline Fuel   \n",
       "\u001b[33m...\u001b[0m               \u001b[33m...\u001b[0m                                                \u001b[33m...\u001b[0m   \n",
       "\u001b[1;36m188528\u001b[0m       Gasoline       \u001b[1;36m420.\u001b[0m0HP \u001b[1;36m6.\u001b[0m2L \u001b[1;36m8\u001b[0m Cylinder Engine Gasoline Fuel   \n",
       "\u001b[1;36m188529\u001b[0m       Gasoline      \u001b[1;36m385.\u001b[0m0HP \u001b[1;36m3.\u001b[0m0L V6 Cylinder Engine Gasoline Fuel   \n",
       "\u001b[1;36m188530\u001b[0m       Gasoline       \u001b[1;36m469.\u001b[0m0HP \u001b[1;36m4.\u001b[0m0L \u001b[1;36m8\u001b[0m Cylinder Engine Gasoline Fuel   \n",
       "\u001b[1;36m188531\u001b[0m       Gasoline                                               \u001b[1;36m3.\u001b[0m0L   \n",
       "\u001b[1;36m188532\u001b[0m       Gasoline       \u001b[1;36m252.\u001b[0m0HP \u001b[1;36m2.\u001b[0m0L \u001b[1;36m4\u001b[0m Cylinder Engine Gasoline Fuel   \n",
       "\n",
       "                          transmission                    ext_col int_col  \\\n",
       "\u001b[1;36m0\u001b[0m                                  A/T                     Yellow    Gray   \n",
       "\u001b[1;36m1\u001b[0m                                  A/T                     Silver   Beige   \n",
       "\u001b[1;36m2\u001b[0m                                  A/T                       Blue    Gray   \n",
       "\u001b[1;36m3\u001b[0m       Transmission w/Dual Shift Mode                      Black   Black   \n",
       "\u001b[1;36m4\u001b[0m                          \u001b[1;36m7\u001b[0m-Speed A/T                      Black   Beige   \n",
       "\u001b[33m...\u001b[0m                                \u001b[33m...\u001b[0m                        \u001b[33m...\u001b[0m     \u001b[33m...\u001b[0m   \n",
       "\u001b[1;36m188528\u001b[0m  Transmission w/Dual Shift Mode                      White   Beige   \n",
       "\u001b[1;36m188529\u001b[0m                     \u001b[1;36m8\u001b[0m-Speed A/T                      White   Black   \n",
       "\u001b[1;36m188530\u001b[0m                     \u001b[1;36m7\u001b[0m-Speed A/T                      White   Black   \n",
       "\u001b[1;36m188531\u001b[0m               \u001b[1;36m1\u001b[0m-Speed Automatic  Daytona Gray Pearl Effect   Black   \n",
       "\u001b[1;36m188532\u001b[0m  Transmission w/Dual Shift Mode                      White   Black   \n",
       "\n",
       "                                      accident clean_title  price  \\\n",
       "\u001b[1;36m0\u001b[0m                                \u001b[3;35mNone\u001b[0m reported         Yes   \u001b[1;36m4200\u001b[0m   \n",
       "\u001b[1;36m1\u001b[0m       At least \u001b[1;36m1\u001b[0m accident or damage reported         Yes   \u001b[1;36m4999\u001b[0m   \n",
       "\u001b[1;36m2\u001b[0m                                \u001b[3;35mNone\u001b[0m reported         Yes  \u001b[1;36m13900\u001b[0m   \n",
       "\u001b[1;36m3\u001b[0m                                \u001b[3;35mNone\u001b[0m reported         Yes  \u001b[1;36m45000\u001b[0m   \n",
       "\u001b[1;36m4\u001b[0m                                \u001b[3;35mNone\u001b[0m reported         Yes  \u001b[1;36m97500\u001b[0m   \n",
       "\u001b[33m...\u001b[0m                                        \u001b[33m...\u001b[0m         \u001b[33m...\u001b[0m    \u001b[33m...\u001b[0m   \n",
       "\u001b[1;36m188528\u001b[0m                           \u001b[3;35mNone\u001b[0m reported         Yes  \u001b[1;36m27500\u001b[0m   \n",
       "\u001b[1;36m188529\u001b[0m  At least \u001b[1;36m1\u001b[0m accident or damage reported         Yes  \u001b[1;36m30000\u001b[0m   \n",
       "\u001b[1;36m188530\u001b[0m                           \u001b[3;35mNone\u001b[0m reported         Yes  \u001b[1;36m86900\u001b[0m   \n",
       "\u001b[1;36m188531\u001b[0m                           \u001b[3;35mNone\u001b[0m reported         NaN  \u001b[1;36m84900\u001b[0m   \n",
       "\u001b[1;36m188532\u001b[0m                           \u001b[3;35mNone\u001b[0m reported         Yes  \u001b[1;36m28995\u001b[0m   \n",
       "\n",
       "        premium_score  \n",
       "\u001b[1;36m0\u001b[0m                 \u001b[1;36m0.0\u001b[0m  \n",
       "\u001b[1;36m1\u001b[0m                 \u001b[1;36m0.0\u001b[0m  \n",
       "\u001b[1;36m2\u001b[0m                 \u001b[1;36m1.0\u001b[0m  \n",
       "\u001b[1;36m3\u001b[0m                 \u001b[1;36m2.0\u001b[0m  \n",
       "\u001b[1;36m4\u001b[0m                 \u001b[1;36m3.0\u001b[0m  \n",
       "\u001b[33m...\u001b[0m               \u001b[33m...\u001b[0m  \n",
       "\u001b[1;36m188528\u001b[0m            \u001b[1;36m2.0\u001b[0m  \n",
       "\u001b[1;36m188529\u001b[0m            \u001b[1;36m2.0\u001b[0m  \n",
       "\u001b[1;36m188530\u001b[0m            \u001b[1;36m3.0\u001b[0m  \n",
       "\u001b[1;36m188531\u001b[0m            \u001b[1;36m1.0\u001b[0m  \n",
       "\u001b[1;36m188532\u001b[0m            \u001b[1;36m2.0\u001b[0m  \n",
       "\n",
       "\u001b[1m[\u001b[0m\u001b[1;36m188533\u001b[0m rows x \u001b[1;36m14\u001b[0m columns\u001b[1m]\u001b[0m"
      ]
     },
     "execution_count": 104,
     "metadata": {},
     "output_type": "execute_result"
    }
   ],
   "source": [
    "df"
   ]
  },
  {
   "cell_type": "code",
   "execution_count": 105,
   "id": "d9f8ac6e-2897-47f9-ad6b-41dc0d29f936",
   "metadata": {},
   "outputs": [
    {
     "data": {
      "text/html": [
       "<pre style=\"white-space:pre;overflow-x:auto;line-height:normal;font-family:Menlo,'DejaVu Sans Mono',consolas,'Courier New',monospace\"></pre>\n"
      ],
      "text/plain": []
     },
     "metadata": {},
     "output_type": "display_data"
    },
    {
     "data": {
      "text/plain": [
       "\u001b[1;35mnp.int64\u001b[0m\u001b[1m(\u001b[0m\u001b[1;36m0\u001b[0m\u001b[1m)\u001b[0m"
      ]
     },
     "execution_count": 105,
     "metadata": {},
     "output_type": "execute_result"
    }
   ],
   "source": [
    "cars['engine'].isna().sum()"
   ]
  },
  {
   "cell_type": "code",
   "execution_count": 106,
   "id": "2b7d6569-8f31-45f5-bb4a-3f0e56b2c88f",
   "metadata": {},
   "outputs": [],
   "source": [
    "def _extract_value(engine_str, pattern):\n",
    "    if pd.isna(engine_str):\n",
    "        return None\n",
    "    \n",
    "    engine_str = str(engine_str)\n",
    "    \n",
    "    match = re.search(pattern, engine_str, re.IGNORECASE)\n",
    "    if match:\n",
    "        for group in match.groups():\n",
    "            if group is not None:\n",
    "                return int(group)\n",
    "    \n",
    "    return None"
   ]
  },
  {
   "cell_type": "code",
   "execution_count": 108,
   "id": "dddad768-62d5-4e84-9d61-27938beda566",
   "metadata": {},
   "outputs": [],
   "source": [
    "import re\n",
    "pat = r'(?:Flat\\s+(\\d+)|V(\\d+)|(\\d+)\\s+Cylinder|I(\\d+))'\n",
    "cars['num_cylinders'] = cars['engine'].apply(lambda x: _extract_value(x, pat))"
   ]
  },
  {
   "cell_type": "code",
   "execution_count": 109,
   "id": "4c57b38f-a5f5-41c1-bd3c-723a3f71084d",
   "metadata": {},
   "outputs": [
    {
     "data": {
      "text/html": [
       "<pre style=\"white-space:pre;overflow-x:auto;line-height:normal;font-family:Menlo,'DejaVu Sans Mono',consolas,'Courier New',monospace\"></pre>\n"
      ],
      "text/plain": []
     },
     "metadata": {},
     "output_type": "display_data"
    },
    {
     "data": {
      "text/plain": [
       "\u001b[1;35mnp.float64\u001b[0m\u001b[1m(\u001b[0m\u001b[1;36m0.08054823293534819\u001b[0m\u001b[1m)\u001b[0m"
      ]
     },
     "execution_count": 109,
     "metadata": {},
     "output_type": "execute_result"
    }
   ],
   "source": [
    "cars['num_cylinders'].isna().sum() / len(cars)"
   ]
  },
  {
   "cell_type": "code",
   "execution_count": 111,
   "id": "3ed37b4a-feab-4e9d-b4db-787a70b223f5",
   "metadata": {},
   "outputs": [],
   "source": [
    "def _classify_engine(engine_str):\n",
    "    \n",
    "    if pd.isna(engine_str):\n",
    "        return 'Basic'\n",
    "\n",
    "    s = str(engine_str).lower()\n",
    "\n",
    "    # ----- High Performance -----\n",
    "    if any(x in s for x in ['twin turbo', 'twin-turbo', 'supercharged', 'w12', 'w16', 'rotary']):\n",
    "        return 'High_Performance'\n",
    "\n",
    "    # ----- Turbocharged -----\n",
    "    if 'turbo' in s:\n",
    "        return 'Turbocharged'\n",
    "\n",
    "    # ----- Modern Efficient -----\n",
    "    if any(x in s for x in ['gdi', 'direct injection', 'tsi', 'tfsi', 'dohc']):\n",
    "        return 'Modern_Efficient'\n",
    "\n",
    "    # ----- Electric/Hybrid -----\n",
    "    if any(x in s for x in ['electric', 'plug-in', 'plugin', 'battery', 'mild hybrid', 'hybrid']):\n",
    "        return 'Electric_Hybrid'\n",
    "\n",
    "    # ----- Traditional -----\n",
    "    if any(x in s for x in ['mpfi', 'sohc', 'ohv']):\n",
    "        return 'Traditional'\n",
    "\n",
    "    # ----- Special Config -----\n",
    "    if any(x in s for x in ['flat', 'h4', 'h6']):\n",
    "        return 'Special_Config'\n",
    "\n",
    "    return 'Basic'"
   ]
  },
  {
   "cell_type": "code",
   "execution_count": 112,
   "id": "596d7fc7-f7e3-4d46-998f-46efa8941922",
   "metadata": {},
   "outputs": [],
   "source": [
    "cars['engine_class'] = cars['engine'].apply(_classify_engine)"
   ]
  },
  {
   "cell_type": "code",
   "execution_count": 113,
   "id": "7a0851da-76f9-4429-a8c6-46e13118ecec",
   "metadata": {},
   "outputs": [
    {
     "data": {
      "text/html": [
       "<pre style=\"white-space:pre;overflow-x:auto;line-height:normal;font-family:Menlo,'DejaVu Sans Mono',consolas,'Courier New',monospace\"></pre>\n"
      ],
      "text/plain": []
     },
     "metadata": {},
     "output_type": "display_data"
    },
    {
     "data": {
      "text/plain": [
       "\n",
       "engine_class\n",
       "Basic               \u001b[1;36m144145\u001b[0m\n",
       "Electric_Hybrid      \u001b[1;36m11178\u001b[0m\n",
       "Modern_Efficient     \u001b[1;36m11142\u001b[0m\n",
       "Turbocharged          \u001b[1;36m7406\u001b[0m\n",
       "High_Performance      \u001b[1;36m7307\u001b[0m\n",
       "Special_Config        \u001b[1;36m5344\u001b[0m\n",
       "Traditional           \u001b[1;36m2011\u001b[0m\n",
       "Name: count, dtype: int64"
      ]
     },
     "execution_count": 113,
     "metadata": {},
     "output_type": "execute_result"
    }
   ],
   "source": [
    "cars['engine_class'].value_counts()"
   ]
  },
  {
   "cell_type": "code",
   "execution_count": 114,
   "id": "30265f00-8eb1-488e-877e-ab7715595e2f",
   "metadata": {},
   "outputs": [
    {
     "data": {
      "text/html": [
       "<pre style=\"white-space:pre;overflow-x:auto;line-height:normal;font-family:Menlo,'DejaVu Sans Mono',consolas,'Courier New',monospace\"></pre>\n"
      ],
      "text/plain": []
     },
     "metadata": {},
     "output_type": "display_data"
    },
    {
     "data": {
      "text/plain": [
       "\n",
       "fuel_type\n",
       "Gasoline          \u001b[1;36m165940\u001b[0m\n",
       "Hybrid              \u001b[1;36m6832\u001b[0m\n",
       "E85 Flex Fuel       \u001b[1;36m5406\u001b[0m\n",
       "Diesel              \u001b[1;36m3955\u001b[0m\n",
       "–                    \u001b[1;36m781\u001b[0m\n",
       "Plug-In Hybrid       \u001b[1;36m521\u001b[0m\n",
       "not supported         \u001b[1;36m15\u001b[0m\n",
       "Name: count, dtype: int64"
      ]
     },
     "execution_count": 114,
     "metadata": {},
     "output_type": "execute_result"
    }
   ],
   "source": [
    "cars['fuel_type'].value_counts()"
   ]
  },
  {
   "cell_type": "code",
   "execution_count": 115,
   "id": "792c1bf6-322b-459b-b6ac-bd65d6e4ef4d",
   "metadata": {},
   "outputs": [
    {
     "data": {
      "text/html": [
       "<pre style=\"white-space:pre;overflow-x:auto;line-height:normal;font-family:Menlo,'DejaVu Sans Mono',consolas,'Courier New',monospace\"></pre>\n"
      ],
      "text/plain": []
     },
     "metadata": {},
     "output_type": "display_data"
    },
    {
     "data": {
      "text/plain": [
       "\n",
       "\u001b[1;35mIndex\u001b[0m\u001b[1m(\u001b[0m\u001b[1m[\u001b[0m\u001b[32m'id'\u001b[0m, \u001b[32m'brand'\u001b[0m, \u001b[32m'model'\u001b[0m, \u001b[32m'model_year'\u001b[0m, \u001b[32m'milage'\u001b[0m, \u001b[32m'fuel_type'\u001b[0m, \u001b[32m'engine'\u001b[0m,\n",
       "       \u001b[32m'transmission'\u001b[0m, \u001b[32m'ext_col'\u001b[0m, \u001b[32m'int_col'\u001b[0m, \u001b[32m'accident'\u001b[0m, \u001b[32m'clean_title'\u001b[0m,\n",
       "       \u001b[32m'price'\u001b[0m, \u001b[32m'num_cylinders'\u001b[0m, \u001b[32m'engine_class'\u001b[0m\u001b[1m]\u001b[0m,\n",
       "      \u001b[33mdtype\u001b[0m=\u001b[32m'object'\u001b[0m\u001b[1m)\u001b[0m"
      ]
     },
     "execution_count": 115,
     "metadata": {},
     "output_type": "execute_result"
    }
   ],
   "source": [
    "cars.columns"
   ]
  },
  {
   "cell_type": "code",
   "execution_count": null,
   "id": "207abd1f-29b8-4e29-b889-21858c9f49c3",
   "metadata": {},
   "outputs": [],
   "source": []
  }
 ],
 "metadata": {
  "kernelspec": {
   "display_name": "Python 3 (ipykernel)",
   "language": "python",
   "name": "python3"
  },
  "language_info": {
   "codemirror_mode": {
    "name": "ipython",
    "version": 3
   },
   "file_extension": ".py",
   "mimetype": "text/x-python",
   "name": "python",
   "nbconvert_exporter": "python",
   "pygments_lexer": "ipython3",
   "version": "3.13.7"
  }
 },
 "nbformat": 4,
 "nbformat_minor": 5
}
