{
 "cells": [
  {
   "cell_type": "code",
   "execution_count": null,
   "id": "82cf4516-828e-4f7b-9602-bfbdc6f0098d",
   "metadata": {},
   "outputs": [],
   "source": []
  }
 ],
 "metadata": {
  "kernelspec": {
   "display_name": "",
   "name": ""
  },
  "language_info": {
   "name": ""
  }
 },
 "nbformat": 4,
 "nbformat_minor": 5
}
